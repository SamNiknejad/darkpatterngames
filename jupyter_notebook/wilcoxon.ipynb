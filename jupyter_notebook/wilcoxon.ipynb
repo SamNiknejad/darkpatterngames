{
 "cells": [
  {
   "cell_type": "code",
   "execution_count": 4,
   "id": "a5d637e2",
   "metadata": {},
   "outputs": [],
   "source": [
    "import re\n",
    "import json\n",
    "import pandas as pd\n",
    "import numpy as np\n",
    "from sklearn.cluster import KMeans\n",
    "from IPython.display import display\n",
    "from statannot import add_stat_annotation\n",
    "\n",
    "import seaborn as sns\n",
    "from matplotlib import pyplot as plt\n",
    "\n",
    "import scipy.stats as stats\n",
    "from scipy.stats import mannwhitneyu\n",
    "from scipy.stats import ttest_ind"
   ]
  },
  {
   "cell_type": "code",
   "execution_count": 5,
   "id": "a3b0fe27",
   "metadata": {},
   "outputs": [],
   "source": [
    "df_d = pd.read_csv('./d_dark_patterns.csv')\n",
    "df_h = pd.read_csv('./h_dark_patterns.csv')"
   ]
  },
  {
   "cell_type": "code",
   "execution_count": 6,
   "id": "e0135421",
   "metadata": {},
   "outputs": [],
   "source": [
    "df_d.drop(['Temporal Dark Patterns', 'Monetary Dark Patterns',\n",
    "           'Social Dark Patterns', 'Psychological Dark Patterns'], axis=1, inplace=True)\n",
    "\n",
    "df_h.drop(['Temporal Dark Patterns', 'Monetary Dark Patterns',\n",
    "           'Social Dark Patterns', 'Psychological Dark Patterns'], axis=1, inplace=True)\n",
    "\n",
    "df_d.drop(columns=[\"Unnamed: 0\"], inplace=True)\n",
    "df_h.drop(columns=[\"Unnamed: 0\"], inplace=True)"
   ]
  },
  {
   "cell_type": "code",
   "execution_count": 7,
   "id": "52444582",
   "metadata": {},
   "outputs": [],
   "source": [
    "csv_file_h = './df_h.csv'\n",
    "csv_file_d = './df_d.csv'\n",
    "\n",
    "# Speichern von df_h als CSV\n",
    "df_h.to_csv(csv_file_h, index=False)\n",
    "\n",
    "# Speichern von df_d als CSV\n",
    "df_d.to_csv(csv_file_d, index=False)"
   ]
  },
  {
   "cell_type": "code",
   "execution_count": 8,
   "id": "34e32799",
   "metadata": {},
   "outputs": [
    {
     "name": "stdout",
     "output_type": "stream",
     "text": [
      "Healthy - Variable: Temporal Dark Patterns Present\n",
      "Shapiro-Wilk-Statistik: 0.18707937002182007\n",
      "P-Wert: 0.0\n",
      "Die Daten sind wahrscheinlich nicht normalverteilt.\n",
      "==================================================\n",
      "Healthy - Variable: Monetary Dark Patterns Present\n",
      "Shapiro-Wilk-Statistik: 0.1634877324104309\n",
      "P-Wert: 0.0\n",
      "Die Daten sind wahrscheinlich nicht normalverteilt.\n",
      "==================================================\n",
      "Healthy - Variable: Social Dark Patterns Present\n",
      "Shapiro-Wilk-Statistik: 0.12320685386657715\n",
      "P-Wert: 0.0\n",
      "Die Daten sind wahrscheinlich nicht normalverteilt.\n",
      "==================================================\n",
      "Healthy - Variable: Psychological Dark Patterns Present\n",
      "Shapiro-Wilk-Statistik: 0.20205092430114746\n",
      "P-Wert: 0.0\n",
      "Die Daten sind wahrscheinlich nicht normalverteilt.\n",
      "==================================================\n",
      "Healthy - Variable: Temporal Dark Patterns Absence\n",
      "Shapiro-Wilk-Statistik: 0.2668493390083313\n",
      "P-Wert: 9.80908925027372e-45\n",
      "Die Daten sind wahrscheinlich nicht normalverteilt.\n",
      "==================================================\n",
      "Healthy - Variable: Monetary Dark Patterns Absence\n",
      "Shapiro-Wilk-Statistik: 0.26226335763931274\n",
      "P-Wert: 8.407790785948902e-45\n",
      "Die Daten sind wahrscheinlich nicht normalverteilt.\n",
      "==================================================\n",
      "Healthy - Variable: Social Dark Patterns Absence\n",
      "Shapiro-Wilk-Statistik: 0.2655177712440491\n",
      "P-Wert: 9.80908925027372e-45\n",
      "Die Daten sind wahrscheinlich nicht normalverteilt.\n",
      "==================================================\n",
      "Healthy - Variable: Psychological Dark Patterns Absence\n",
      "Shapiro-Wilk-Statistik: 0.2650277018547058\n",
      "P-Wert: 8.407790785948902e-45\n",
      "Die Daten sind wahrscheinlich nicht normalverteilt.\n",
      "==================================================\n",
      "Dark - Variable: Temporal Dark Patterns Present\n",
      "Shapiro-Wilk-Statistik: 0.268793523311615\n",
      "P-Wert: 0.0\n",
      "Die Daten sind wahrscheinlich nicht normalverteilt.\n",
      "==================================================\n",
      "Dark - Variable: Monetary Dark Patterns Present\n",
      "Shapiro-Wilk-Statistik: 0.27267736196517944\n",
      "P-Wert: 0.0\n",
      "Die Daten sind wahrscheinlich nicht normalverteilt.\n",
      "==================================================\n",
      "Dark - Variable: Social Dark Patterns Present\n",
      "Shapiro-Wilk-Statistik: 0.22254502773284912\n",
      "P-Wert: 0.0\n",
      "Die Daten sind wahrscheinlich nicht normalverteilt.\n",
      "==================================================\n",
      "Dark - Variable: Psychological Dark Patterns Present\n",
      "Shapiro-Wilk-Statistik: 0.2542373538017273\n",
      "P-Wert: 0.0\n",
      "Die Daten sind wahrscheinlich nicht normalverteilt.\n",
      "==================================================\n",
      "Dark - Variable: Temporal Dark Patterns Absence\n",
      "Shapiro-Wilk-Statistik: 0.26863229274749756\n",
      "P-Wert: 0.0\n",
      "Die Daten sind wahrscheinlich nicht normalverteilt.\n",
      "==================================================\n",
      "Dark - Variable: Monetary Dark Patterns Absence\n",
      "Shapiro-Wilk-Statistik: 0.2621369957923889\n",
      "P-Wert: 0.0\n",
      "Die Daten sind wahrscheinlich nicht normalverteilt.\n",
      "==================================================\n",
      "Dark - Variable: Social Dark Patterns Absence\n",
      "Shapiro-Wilk-Statistik: 0.2612835764884949\n",
      "P-Wert: 0.0\n",
      "Die Daten sind wahrscheinlich nicht normalverteilt.\n",
      "==================================================\n",
      "Dark - Variable: Psychological Dark Patterns Absence\n",
      "Shapiro-Wilk-Statistik: 0.27943843603134155\n",
      "P-Wert: 0.0\n",
      "Die Daten sind wahrscheinlich nicht normalverteilt.\n",
      "==================================================\n"
     ]
    }
   ],
   "source": [
    "from scipy.stats import shapiro\n",
    "import pandas as pd\n",
    "\n",
    "# Lese die Daten ein\n",
    "df_h = pd.read_csv(\"df_h.csv\")\n",
    "df_d = pd.read_csv(\"df_d.csv\")\n",
    "\n",
    "# Wähle die relevanten Spalten für den Test aus\n",
    "columns = ['Temporal Dark Patterns Present', 'Monetary Dark Patterns Present', \n",
    "           'Social Dark Patterns Present', 'Psychological Dark Patterns Present',\n",
    "           'Temporal Dark Patterns Absence', 'Monetary Dark Patterns Absence',\n",
    "           'Social Dark Patterns Absence', 'Psychological Dark Patterns Absence']\n",
    "\n",
    "# Führe den Shapiro-Wilk-Test für jede Spalte durch\n",
    "for column in columns:\n",
    "    statistic, p_value = shapiro(df_h[column])\n",
    "    print(f\"Healthy - Variable: {column}\")\n",
    "    print(f\"Shapiro-Wilk-Statistik: {statistic}\")\n",
    "    print(f\"P-Wert: {p_value}\")\n",
    "    \n",
    "    if p_value > 0.05:\n",
    "        print(\"Die Daten könnten normalverteilt sein.\")\n",
    "    else:\n",
    "        print(\"Die Daten sind wahrscheinlich nicht normalverteilt.\")\n",
    "        \n",
    "    print(\"=\"*50)\n",
    "\n",
    "for column in columns:\n",
    "    statistic, p_value = shapiro(df_d[column])\n",
    "    print(f\"Dark - Variable: {column}\")\n",
    "    print(f\"Shapiro-Wilk-Statistik: {statistic}\")\n",
    "    print(f\"P-Wert: {p_value}\")\n",
    "    \n",
    "    if p_value > 0.05:\n",
    "        print(\"Die Daten könnten normalverteilt sein.\")\n",
    "    else:\n",
    "        print(\"Die Daten sind wahrscheinlich nicht normalverteilt.\")\n",
    "        \n",
    "    print(\"=\"*50)\n"
   ]
  },
  {
   "cell_type": "code",
   "execution_count": 9,
   "id": "0d63be5d",
   "metadata": {},
   "outputs": [
    {
     "name": "stdout",
     "output_type": "stream",
     "text": [
      "Variable: Temporal Dark Patterns Present\n",
      "Kruskal-Wallis-Statistik: 677.6572483080313\n",
      "P-Wert: 2.1597063614373998e-149\n",
      "\n",
      "Signifikante Unterschiede gefunden.\n",
      "==================================================\n",
      "Variable: Monetary Dark Patterns Present\n",
      "Kruskal-Wallis-Statistik: 818.197820759994\n",
      "P-Wert: 5.964614634682791e-180\n",
      "\n",
      "Signifikante Unterschiede gefunden.\n",
      "==================================================\n",
      "Variable: Social Dark Patterns Present\n",
      "Kruskal-Wallis-Statistik: 592.2468520630612\n",
      "P-Wert: 8.131835101302225e-131\n",
      "\n",
      "Signifikante Unterschiede gefunden.\n",
      "==================================================\n",
      "Variable: Psychological Dark Patterns Present\n",
      "Kruskal-Wallis-Statistik: 518.8420596876548\n",
      "P-Wert: 7.559057920077262e-115\n",
      "\n",
      "Signifikante Unterschiede gefunden.\n",
      "==================================================\n",
      "Variable: Temporal Dark Patterns Absence\n",
      "Kruskal-Wallis-Statistik: 186.20483984539976\n",
      "P-Wert: 2.1417832694970106e-42\n",
      "\n",
      "Signifikante Unterschiede gefunden.\n",
      "==================================================\n",
      "Variable: Monetary Dark Patterns Absence\n",
      "Kruskal-Wallis-Statistik: 211.7739107166313\n",
      "P-Wert: 5.634512323338015e-48\n",
      "\n",
      "Signifikante Unterschiede gefunden.\n",
      "==================================================\n",
      "Variable: Social Dark Patterns Absence\n",
      "Kruskal-Wallis-Statistik: 85.370320581798\n",
      "P-Wert: 2.4740636353791106e-20\n",
      "\n",
      "Signifikante Unterschiede gefunden.\n",
      "==================================================\n",
      "Variable: Psychological Dark Patterns Absence\n",
      "Kruskal-Wallis-Statistik: 134.16417042253045\n",
      "P-Wert: 5.0299482687734035e-31\n",
      "\n",
      "Signifikante Unterschiede gefunden.\n",
      "==================================================\n"
     ]
    }
   ],
   "source": [
    "from scipy.stats import kruskal\n",
    "import pandas as pd\n",
    "\n",
    "# Lese die Daten ein\n",
    "df_h = pd.read_csv(\"df_h.csv\")\n",
    "df_d = pd.read_csv(\"df_d.csv\")\n",
    "\n",
    "# Wähle die relevanten Spalten für den Test aus\n",
    "columns = ['Temporal Dark Patterns Present', 'Monetary Dark Patterns Present', \n",
    "           'Social Dark Patterns Present', 'Psychological Dark Patterns Present',\n",
    "           'Temporal Dark Patterns Absence', 'Monetary Dark Patterns Absence',\n",
    "           'Social Dark Patterns Absence', 'Psychological Dark Patterns Absence']\n",
    "\n",
    "# Führe den Kruskal-Wallis-Test für jede Spalte durch\n",
    "for column in columns:\n",
    "    statistic, p_value = kruskal(df_h[column], df_d[column])\n",
    "    print(f\"Variable: {column}\")\n",
    "    print(f\"Kruskal-Wallis-Statistik: {statistic}\")\n",
    "    print(f\"P-Wert: {p_value}\")\n",
    "    print(\"\")\n",
    "\n",
    "    if p_value < 0.05:\n",
    "        print(\"Signifikante Unterschiede gefunden.\")\n",
    "    else:\n",
    "        print(\"Keine signifikanten Unterschiede gefunden.\")\n",
    "\n",
    "    print(\"=\"*50)\n"
   ]
  },
  {
   "cell_type": "code",
   "execution_count": 10,
   "id": "d503fee8",
   "metadata": {},
   "outputs": [],
   "source": [
    "u_stat, p_value = mannwhitneyu(df_d, df_h)"
   ]
  },
  {
   "cell_type": "code",
   "execution_count": 11,
   "id": "39a12ee1",
   "metadata": {},
   "outputs": [
    {
     "name": "stdout",
     "output_type": "stream",
     "text": [
      "U-Statistic:  [488691.5 508685.5 465948.  462729.5 162732.  155223.  199664.5 179560. ]\n",
      "p-value:  [2.16314240e-149 5.97508915e-180 8.14449292e-131 7.56954437e-115\n",
      " 2.14356580e-042 5.63950895e-048 2.47547740e-020 5.03350198e-031]\n"
     ]
    }
   ],
   "source": [
    "print(\"U-Statistic: \",u_stat)\n",
    "print(\"p-value: \",p_value)"
   ]
  },
  {
   "cell_type": "code",
   "execution_count": 12,
   "id": "d5698aa3",
   "metadata": {},
   "outputs": [],
   "source": [
    "t_stat, p_value = ttest_ind(df_d, df_h)"
   ]
  },
  {
   "cell_type": "code",
   "execution_count": 13,
   "id": "08b16d6f",
   "metadata": {},
   "outputs": [
    {
     "name": "stdout",
     "output_type": "stream",
     "text": [
      "t-Statistic:  [ 6.05870571  6.90208537  5.72866834  5.51891249 -4.17327752 -4.02281079\n",
      " -3.13520109 -4.45103587]\n",
      "p-value:  [1.73373336e-09 7.54929023e-12 1.22201443e-08 4.01540335e-08\n",
      " 3.17557619e-05 6.03828175e-05 1.75080780e-03 9.17977410e-06]\n"
     ]
    }
   ],
   "source": [
    "print(\"t-Statistic: \",t_stat)\n",
    "print(\"p-value: \",p_value)"
   ]
  },
  {
   "cell_type": "code",
   "execution_count": 14,
   "id": "a95d5fa6",
   "metadata": {},
   "outputs": [
    {
     "data": {
      "text/html": [
       "<div>\n",
       "<style scoped>\n",
       "    .dataframe tbody tr th:only-of-type {\n",
       "        vertical-align: middle;\n",
       "    }\n",
       "\n",
       "    .dataframe tbody tr th {\n",
       "        vertical-align: top;\n",
       "    }\n",
       "\n",
       "    .dataframe thead th {\n",
       "        text-align: right;\n",
       "    }\n",
       "</style>\n",
       "<table border=\"1\" class=\"dataframe\">\n",
       "  <thead>\n",
       "    <tr style=\"text-align: right;\">\n",
       "      <th></th>\n",
       "      <th>Temporal Dark Patterns Present</th>\n",
       "      <th>Monetary Dark Patterns Present</th>\n",
       "      <th>Social Dark Patterns Present</th>\n",
       "      <th>Psychological Dark Patterns Present</th>\n",
       "      <th>Temporal Dark Patterns Absence</th>\n",
       "      <th>Monetary Dark Patterns Absence</th>\n",
       "      <th>Social Dark Patterns Absence</th>\n",
       "      <th>Psychological Dark Patterns Absence</th>\n",
       "    </tr>\n",
       "  </thead>\n",
       "  <tbody>\n",
       "    <tr>\n",
       "      <th>0</th>\n",
       "      <td>7</td>\n",
       "      <td>11</td>\n",
       "      <td>7</td>\n",
       "      <td>7</td>\n",
       "      <td>0</td>\n",
       "      <td>0</td>\n",
       "      <td>0</td>\n",
       "      <td>0</td>\n",
       "    </tr>\n",
       "    <tr>\n",
       "      <th>1</th>\n",
       "      <td>27</td>\n",
       "      <td>44</td>\n",
       "      <td>26</td>\n",
       "      <td>28</td>\n",
       "      <td>1</td>\n",
       "      <td>0</td>\n",
       "      <td>2</td>\n",
       "      <td>0</td>\n",
       "    </tr>\n",
       "    <tr>\n",
       "      <th>2</th>\n",
       "      <td>12</td>\n",
       "      <td>19</td>\n",
       "      <td>11</td>\n",
       "      <td>10</td>\n",
       "      <td>0</td>\n",
       "      <td>0</td>\n",
       "      <td>1</td>\n",
       "      <td>0</td>\n",
       "    </tr>\n",
       "    <tr>\n",
       "      <th>3</th>\n",
       "      <td>7</td>\n",
       "      <td>8</td>\n",
       "      <td>5</td>\n",
       "      <td>4</td>\n",
       "      <td>0</td>\n",
       "      <td>0</td>\n",
       "      <td>0</td>\n",
       "      <td>0</td>\n",
       "    </tr>\n",
       "    <tr>\n",
       "      <th>4</th>\n",
       "      <td>22</td>\n",
       "      <td>33</td>\n",
       "      <td>21</td>\n",
       "      <td>21</td>\n",
       "      <td>0</td>\n",
       "      <td>0</td>\n",
       "      <td>0</td>\n",
       "      <td>0</td>\n",
       "    </tr>\n",
       "    <tr>\n",
       "      <th>...</th>\n",
       "      <td>...</td>\n",
       "      <td>...</td>\n",
       "      <td>...</td>\n",
       "      <td>...</td>\n",
       "      <td>...</td>\n",
       "      <td>...</td>\n",
       "      <td>...</td>\n",
       "      <td>...</td>\n",
       "    </tr>\n",
       "    <tr>\n",
       "      <th>838</th>\n",
       "      <td>11</td>\n",
       "      <td>3</td>\n",
       "      <td>0</td>\n",
       "      <td>7</td>\n",
       "      <td>7</td>\n",
       "      <td>21</td>\n",
       "      <td>14</td>\n",
       "      <td>8</td>\n",
       "    </tr>\n",
       "    <tr>\n",
       "      <th>839</th>\n",
       "      <td>45</td>\n",
       "      <td>40</td>\n",
       "      <td>3</td>\n",
       "      <td>35</td>\n",
       "      <td>53</td>\n",
       "      <td>108</td>\n",
       "      <td>94</td>\n",
       "      <td>57</td>\n",
       "    </tr>\n",
       "    <tr>\n",
       "      <th>840</th>\n",
       "      <td>4</td>\n",
       "      <td>4</td>\n",
       "      <td>4</td>\n",
       "      <td>4</td>\n",
       "      <td>0</td>\n",
       "      <td>5</td>\n",
       "      <td>3</td>\n",
       "      <td>3</td>\n",
       "    </tr>\n",
       "    <tr>\n",
       "      <th>841</th>\n",
       "      <td>0</td>\n",
       "      <td>0</td>\n",
       "      <td>0</td>\n",
       "      <td>0</td>\n",
       "      <td>7</td>\n",
       "      <td>11</td>\n",
       "      <td>7</td>\n",
       "      <td>7</td>\n",
       "    </tr>\n",
       "    <tr>\n",
       "      <th>842</th>\n",
       "      <td>0</td>\n",
       "      <td>2</td>\n",
       "      <td>1</td>\n",
       "      <td>0</td>\n",
       "      <td>0</td>\n",
       "      <td>0</td>\n",
       "      <td>0</td>\n",
       "      <td>0</td>\n",
       "    </tr>\n",
       "  </tbody>\n",
       "</table>\n",
       "<p>843 rows × 8 columns</p>\n",
       "</div>"
      ],
      "text/plain": [
       "     Temporal Dark Patterns Present  Monetary Dark Patterns Present  \\\n",
       "0                                 7                              11   \n",
       "1                                27                              44   \n",
       "2                                12                              19   \n",
       "3                                 7                               8   \n",
       "4                                22                              33   \n",
       "..                              ...                             ...   \n",
       "838                              11                               3   \n",
       "839                              45                              40   \n",
       "840                               4                               4   \n",
       "841                               0                               0   \n",
       "842                               0                               2   \n",
       "\n",
       "     Social Dark Patterns Present  Psychological Dark Patterns Present  \\\n",
       "0                               7                                    7   \n",
       "1                              26                                   28   \n",
       "2                              11                                   10   \n",
       "3                               5                                    4   \n",
       "4                              21                                   21   \n",
       "..                            ...                                  ...   \n",
       "838                             0                                    7   \n",
       "839                             3                                   35   \n",
       "840                             4                                    4   \n",
       "841                             0                                    0   \n",
       "842                             1                                    0   \n",
       "\n",
       "     Temporal Dark Patterns Absence  Monetary Dark Patterns Absence  \\\n",
       "0                                 0                               0   \n",
       "1                                 1                               0   \n",
       "2                                 0                               0   \n",
       "3                                 0                               0   \n",
       "4                                 0                               0   \n",
       "..                              ...                             ...   \n",
       "838                               7                              21   \n",
       "839                              53                             108   \n",
       "840                               0                               5   \n",
       "841                               7                              11   \n",
       "842                               0                               0   \n",
       "\n",
       "     Social Dark Patterns Absence  Psychological Dark Patterns Absence  \n",
       "0                               0                                    0  \n",
       "1                               2                                    0  \n",
       "2                               1                                    0  \n",
       "3                               0                                    0  \n",
       "4                               0                                    0  \n",
       "..                            ...                                  ...  \n",
       "838                            14                                    8  \n",
       "839                            94                                   57  \n",
       "840                             3                                    3  \n",
       "841                             7                                    7  \n",
       "842                             0                                    0  \n",
       "\n",
       "[843 rows x 8 columns]"
      ]
     },
     "execution_count": 14,
     "metadata": {},
     "output_type": "execute_result"
    }
   ],
   "source": [
    "df_d"
   ]
  },
  {
   "cell_type": "code",
   "execution_count": 15,
   "id": "7136edb5",
   "metadata": {
    "scrolled": false
   },
   "outputs": [
    {
     "data": {
      "text/html": [
       "<div>\n",
       "<style scoped>\n",
       "    .dataframe tbody tr th:only-of-type {\n",
       "        vertical-align: middle;\n",
       "    }\n",
       "\n",
       "    .dataframe tbody tr th {\n",
       "        vertical-align: top;\n",
       "    }\n",
       "\n",
       "    .dataframe thead th {\n",
       "        text-align: right;\n",
       "    }\n",
       "</style>\n",
       "<table border=\"1\" class=\"dataframe\">\n",
       "  <thead>\n",
       "    <tr style=\"text-align: right;\">\n",
       "      <th></th>\n",
       "      <th>Temporal Dark Patterns Present</th>\n",
       "      <th>Monetary Dark Patterns Present</th>\n",
       "      <th>Social Dark Patterns Present</th>\n",
       "      <th>Psychological Dark Patterns Present</th>\n",
       "      <th>Temporal Dark Patterns Absence</th>\n",
       "      <th>Monetary Dark Patterns Absence</th>\n",
       "      <th>Social Dark Patterns Absence</th>\n",
       "      <th>Psychological Dark Patterns Absence</th>\n",
       "    </tr>\n",
       "  </thead>\n",
       "  <tbody>\n",
       "    <tr>\n",
       "      <th>0</th>\n",
       "      <td>0</td>\n",
       "      <td>0</td>\n",
       "      <td>0</td>\n",
       "      <td>0</td>\n",
       "      <td>21</td>\n",
       "      <td>33</td>\n",
       "      <td>21</td>\n",
       "      <td>21</td>\n",
       "    </tr>\n",
       "    <tr>\n",
       "      <th>1</th>\n",
       "      <td>0</td>\n",
       "      <td>0</td>\n",
       "      <td>0</td>\n",
       "      <td>0</td>\n",
       "      <td>14</td>\n",
       "      <td>22</td>\n",
       "      <td>14</td>\n",
       "      <td>14</td>\n",
       "    </tr>\n",
       "    <tr>\n",
       "      <th>2</th>\n",
       "      <td>0</td>\n",
       "      <td>0</td>\n",
       "      <td>0</td>\n",
       "      <td>0</td>\n",
       "      <td>14</td>\n",
       "      <td>22</td>\n",
       "      <td>14</td>\n",
       "      <td>11</td>\n",
       "    </tr>\n",
       "    <tr>\n",
       "      <th>3</th>\n",
       "      <td>0</td>\n",
       "      <td>0</td>\n",
       "      <td>0</td>\n",
       "      <td>0</td>\n",
       "      <td>7</td>\n",
       "      <td>11</td>\n",
       "      <td>7</td>\n",
       "      <td>6</td>\n",
       "    </tr>\n",
       "    <tr>\n",
       "      <th>4</th>\n",
       "      <td>0</td>\n",
       "      <td>0</td>\n",
       "      <td>0</td>\n",
       "      <td>0</td>\n",
       "      <td>7</td>\n",
       "      <td>11</td>\n",
       "      <td>7</td>\n",
       "      <td>6</td>\n",
       "    </tr>\n",
       "    <tr>\n",
       "      <th>...</th>\n",
       "      <td>...</td>\n",
       "      <td>...</td>\n",
       "      <td>...</td>\n",
       "      <td>...</td>\n",
       "      <td>...</td>\n",
       "      <td>...</td>\n",
       "      <td>...</td>\n",
       "      <td>...</td>\n",
       "    </tr>\n",
       "    <tr>\n",
       "      <th>648</th>\n",
       "      <td>24</td>\n",
       "      <td>39</td>\n",
       "      <td>0</td>\n",
       "      <td>17</td>\n",
       "      <td>43</td>\n",
       "      <td>63</td>\n",
       "      <td>63</td>\n",
       "      <td>49</td>\n",
       "    </tr>\n",
       "    <tr>\n",
       "      <th>649</th>\n",
       "      <td>12</td>\n",
       "      <td>14</td>\n",
       "      <td>0</td>\n",
       "      <td>6</td>\n",
       "      <td>15</td>\n",
       "      <td>28</td>\n",
       "      <td>28</td>\n",
       "      <td>20</td>\n",
       "    </tr>\n",
       "    <tr>\n",
       "      <th>650</th>\n",
       "      <td>0</td>\n",
       "      <td>2</td>\n",
       "      <td>1</td>\n",
       "      <td>0</td>\n",
       "      <td>0</td>\n",
       "      <td>0</td>\n",
       "      <td>0</td>\n",
       "      <td>0</td>\n",
       "    </tr>\n",
       "    <tr>\n",
       "      <th>651</th>\n",
       "      <td>0</td>\n",
       "      <td>0</td>\n",
       "      <td>0</td>\n",
       "      <td>0</td>\n",
       "      <td>7</td>\n",
       "      <td>11</td>\n",
       "      <td>7</td>\n",
       "      <td>7</td>\n",
       "    </tr>\n",
       "    <tr>\n",
       "      <th>652</th>\n",
       "      <td>4</td>\n",
       "      <td>4</td>\n",
       "      <td>4</td>\n",
       "      <td>4</td>\n",
       "      <td>0</td>\n",
       "      <td>5</td>\n",
       "      <td>3</td>\n",
       "      <td>3</td>\n",
       "    </tr>\n",
       "  </tbody>\n",
       "</table>\n",
       "<p>653 rows × 8 columns</p>\n",
       "</div>"
      ],
      "text/plain": [
       "     Temporal Dark Patterns Present  Monetary Dark Patterns Present  \\\n",
       "0                                 0                               0   \n",
       "1                                 0                               0   \n",
       "2                                 0                               0   \n",
       "3                                 0                               0   \n",
       "4                                 0                               0   \n",
       "..                              ...                             ...   \n",
       "648                              24                              39   \n",
       "649                              12                              14   \n",
       "650                               0                               2   \n",
       "651                               0                               0   \n",
       "652                               4                               4   \n",
       "\n",
       "     Social Dark Patterns Present  Psychological Dark Patterns Present  \\\n",
       "0                               0                                    0   \n",
       "1                               0                                    0   \n",
       "2                               0                                    0   \n",
       "3                               0                                    0   \n",
       "4                               0                                    0   \n",
       "..                            ...                                  ...   \n",
       "648                             0                                   17   \n",
       "649                             0                                    6   \n",
       "650                             1                                    0   \n",
       "651                             0                                    0   \n",
       "652                             4                                    4   \n",
       "\n",
       "     Temporal Dark Patterns Absence  Monetary Dark Patterns Absence  \\\n",
       "0                                21                              33   \n",
       "1                                14                              22   \n",
       "2                                14                              22   \n",
       "3                                 7                              11   \n",
       "4                                 7                              11   \n",
       "..                              ...                             ...   \n",
       "648                              43                              63   \n",
       "649                              15                              28   \n",
       "650                               0                               0   \n",
       "651                               7                              11   \n",
       "652                               0                               5   \n",
       "\n",
       "     Social Dark Patterns Absence  Psychological Dark Patterns Absence  \n",
       "0                              21                                   21  \n",
       "1                              14                                   14  \n",
       "2                              14                                   11  \n",
       "3                               7                                    6  \n",
       "4                               7                                    6  \n",
       "..                            ...                                  ...  \n",
       "648                            63                                   49  \n",
       "649                            28                                   20  \n",
       "650                             0                                    0  \n",
       "651                             7                                    7  \n",
       "652                             3                                    3  \n",
       "\n",
       "[653 rows x 8 columns]"
      ]
     },
     "execution_count": 15,
     "metadata": {},
     "output_type": "execute_result"
    }
   ],
   "source": [
    "df_h"
   ]
  },
  {
   "cell_type": "code",
   "execution_count": 16,
   "id": "d1acedc9",
   "metadata": {},
   "outputs": [
    {
     "data": {
      "text/plain": [
       "(653, 8)"
      ]
     },
     "execution_count": 16,
     "metadata": {},
     "output_type": "execute_result"
    }
   ],
   "source": [
    "df_h.shape"
   ]
  },
  {
   "cell_type": "code",
   "execution_count": 17,
   "id": "99ba8b00",
   "metadata": {},
   "outputs": [
    {
     "data": {
      "text/plain": [
       "(843, 8)"
      ]
     },
     "execution_count": 17,
     "metadata": {},
     "output_type": "execute_result"
    }
   ],
   "source": [
    "df_d.shape"
   ]
  },
  {
   "cell_type": "code",
   "execution_count": 18,
   "id": "cf998ae5",
   "metadata": {},
   "outputs": [
    {
     "data": {
      "image/png": "[encoded data removed]",
      "text/plain": [
       "<Figure size 432x288 with 1 Axes>"
      ]
     },
     "metadata": {
      "needs_background": "light"
     },
     "output_type": "display_data"
    }
   ],
   "source": [
    "mean_values = df_d.mean()\n",
    "\n",
    "mean_values.plot(kind='bar', rot=45, color='b', ylim=(0, 80))\n",
    "\n",
    "# Zahlen über den Balken anzeigen\n",
    "ax = plt.gca()\n",
    "for p in ax.patches:\n",
    "    ax.text(p.get_x() + p.get_width() / 2., p.get_height(), f\"{p.get_height():.2f}\", ha='center', va='bottom')\n",
    "\n",
    "plt.xlabel('')\n",
    "plt.ylabel('Mittelwert')\n",
    "plt.title('Mittelwerte für Dark Games')\n",
    "plt.legend(\"D\")\n",
    "\n",
    "plt.xticks(rotation='vertical')\n",
    "\n",
    "plt.show()\n"
   ]
  },
  {
   "cell_type": "code",
   "execution_count": 19,
   "id": "10337e3f",
   "metadata": {},
   "outputs": [
    {
     "name": "stdout",
     "output_type": "stream",
     "text": [
      "Standardabweichungen:\n",
      "Temporal Dark Patterns Present         69.664053\n",
      "Monetary Dark Patterns Present         97.667081\n",
      "Social Dark Patterns Present           55.100467\n",
      "Psychological Dark Patterns Present    74.925200\n",
      "Temporal Dark Patterns Absence         51.960278\n",
      "Monetary Dark Patterns Absence         88.015799\n",
      "Social Dark Patterns Absence           70.960324\n",
      "Psychological Dark Patterns Absence    43.876053\n",
      "dtype: float64\n"
     ]
    }
   ],
   "source": [
    "std_values = df_d.std(numeric_only=True)\n",
    "\n",
    "print(\"Standardabweichungen:\")\n",
    "print(std_values)"
   ]
  },
  {
   "cell_type": "code",
   "execution_count": 20,
   "id": "bca1a59d",
   "metadata": {},
   "outputs": [
    {
     "name": "stdout",
     "output_type": "stream",
     "text": [
      "Mittelwert:\n",
      "Temporal Dark Patterns Present         22.099644\n",
      "Monetary Dark Patterns Present         31.233689\n",
      "Social Dark Patterns Present           14.039146\n",
      "Psychological Dark Patterns Present    21.778173\n",
      "Temporal Dark Patterns Absence         15.454330\n",
      "Monetary Dark Patterns Absence         25.778173\n",
      "Social Dark Patterns Absence           21.634638\n",
      "Psychological Dark Patterns Absence    13.991696\n",
      "dtype: float64\n"
     ]
    }
   ],
   "source": [
    "mean_values = df_d.mean(numeric_only=True)\n",
    "\n",
    "print(\"Mittelwert:\")\n",
    "print(mean_values)"
   ]
  },
  {
   "cell_type": "code",
   "execution_count": 21,
   "id": "bcf3ebae",
   "metadata": {},
   "outputs": [
    {
     "data": {
      "text/plain": [
       "(653, 8)"
      ]
     },
     "execution_count": 21,
     "metadata": {},
     "output_type": "execute_result"
    }
   ],
   "source": [
    "df_h.shape"
   ]
  },
  {
   "cell_type": "code",
   "execution_count": 22,
   "id": "1b5c33e3",
   "metadata": {},
   "outputs": [
    {
     "name": "stdout",
     "output_type": "stream",
     "text": [
      "Standardabweichungen:\n",
      "Temporal Dark Patterns Present          23.818759\n",
      "Monetary Dark Patterns Present          23.665851\n",
      "Social Dark Patterns Present            10.414646\n",
      "Psychological Dark Patterns Present     22.340008\n",
      "Temporal Dark Patterns Absence         109.909031\n",
      "Monetary Dark Patterns Absence         177.539765\n",
      "Social Dark Patterns Absence           120.103635\n",
      "Psychological Dark Patterns Absence    104.883817\n",
      "dtype: float64\n"
     ]
    }
   ],
   "source": [
    "std_values = df_h.std(numeric_only=True)\n",
    "\n",
    "print(\"Standardabweichungen:\")\n",
    "print(std_values)"
   ]
  },
  {
   "cell_type": "code",
   "execution_count": 23,
   "id": "5f0540a8",
   "metadata": {},
   "outputs": [
    {
     "name": "stdout",
     "output_type": "stream",
     "text": [
      "Mittelwert:\n",
      "Temporal Dark Patterns Present          4.849923\n",
      "Monetary Dark Patterns Present          4.258806\n",
      "Social Dark Patterns Present            1.516080\n",
      "Psychological Dark Patterns Present     5.047473\n",
      "Temporal Dark Patterns Absence         33.385911\n",
      "Monetary Dark Patterns Absence         54.009188\n",
      "Social Dark Patterns Absence           37.254211\n",
      "Psychological Dark Patterns Absence    31.793262\n",
      "dtype: float64\n"
     ]
    }
   ],
   "source": [
    "mean_values = df_h.mean(numeric_only=True)\n",
    "\n",
    "print(\"Mittelwert:\")\n",
    "print(mean_values)"
   ]
  },
  {
   "cell_type": "code",
   "execution_count": 24,
   "id": "49bd4091",
   "metadata": {},
   "outputs": [
    {
     "data": {
      "image/png": "[encoded data removed]",
      "text/plain": [
       "<Figure size 432x288 with 1 Axes>"
      ]
     },
     "metadata": {
      "needs_background": "light"
     },
     "output_type": "display_data"
    }
   ],
   "source": [
    "mean_values = df_h.mean()\n",
    "\n",
    "mean_values.plot(kind='bar', rot=45, color='b', ylim=(0, 80))\n",
    "\n",
    "# Zahlen über den Balken anzeigen\n",
    "ax = plt.gca()\n",
    "for p in ax.patches:\n",
    "    ax.text(p.get_x() + p.get_width() / 2., p.get_height(), f\"{p.get_height():.2f}\", ha='center', va='bottom')\n",
    "\n",
    "plt.xlabel('')\n",
    "plt.ylabel('Mittelwert')\n",
    "plt.title('Mittelwerte für Healthy Games')\n",
    "plt.legend(\"H\")\n",
    "\n",
    "plt.xticks(rotation='vertical')\n",
    "\n",
    "plt.show()"
   ]
  },
  {
   "cell_type": "code",
   "execution_count": 25,
   "id": "ed189db5",
   "metadata": {},
   "outputs": [],
   "source": [
    "dark_df = pd.read_csv('./d_dark_patterns.csv')\n",
    "healthy_df = pd.read_csv('./h_dark_patterns.csv')"
   ]
  },
  {
   "cell_type": "code",
   "execution_count": 65,
   "id": "90f3acd6",
   "metadata": {},
   "outputs": [
    {
     "data": {
      "image/png": "[encoded data removed]",
      "text/plain": [
       "<Figure size 432x288 with 1 Axes>"
      ]
     },
     "metadata": {
      "needs_background": "light"
     },
     "output_type": "display_data"
    }
   ],
   "source": [
    "dark_sums = dark_df[['Temporal Dark Patterns Present', 'Monetary Dark Patterns Present', 'Social Dark Patterns Present', 'Psychological Dark Patterns Present']].sum()\n",
    "healthy_sums = healthy_df[['Temporal Dark Patterns Present', 'Monetary Dark Patterns Present', 'Social Dark Patterns Present', 'Psychological Dark Patterns Present']].sum()\n",
    "\n",
    "patterns = ['Temporal', 'Monetary', 'Social', 'Psychological']\n",
    "bar_width = 0.35\n",
    "opacity = 0.8\n",
    "\n",
    "# Farbpalette für Farbenblinde\n",
    "color_palette = sns.color_palette(\"colorblind\")\n",
    "\n",
    "fig, ax = plt.subplots()\n",
    "\n",
    "dark_bars = ax.bar(np.arange(len(patterns)), dark_sums, bar_width, alpha=opacity, color=color_palette[1], label='Dark Games')\n",
    "healthy_bars = ax.bar(np.arange(len(patterns)) + bar_width, healthy_sums, bar_width, alpha=opacity, color=color_palette[0], label='Healthy Games')\n",
    "\n",
    "ax.set_xlabel('Kategorien')\n",
    "ax.set_ylabel('Anzahl der gemeldeten Dark Pattern')\n",
    "ax.set_title('Vergleich der Dark Pattern in Dark Games und Healthy Games')\n",
    "ax.legend()\n",
    "\n",
    "for i, v in enumerate(dark_sums):\n",
    "    ax.text(i, v + 1, str(v), ha='center', color='black', fontweight='bold')\n",
    "for i, v in enumerate(healthy_sums):\n",
    "    ax.text(i + bar_width, v + 1, str(v), ha='center', color='black', fontweight='bold')\n",
    "\n",
    "ax.set_xticks(np.arange(len(patterns)) + bar_width / 2)\n",
    "ax.set_xticklabels(patterns)\n",
    "plt.xticks(rotation=90) \n",
    "\n",
    "plt.show()"
   ]
  },
  {
   "cell_type": "code",
   "execution_count": 31,
   "id": "72aae3a4",
   "metadata": {},
   "outputs": [
    {
     "data": {
      "image/png": "[encoded data removed]",
      "text/plain": [
       "<Figure size 432x288 with 1 Axes>"
      ]
     },
     "metadata": {
      "needs_background": "light"
     },
     "output_type": "display_data"
    }
   ],
   "source": [
    "dark_sums = dark_df[['Temporal Dark Patterns Absence', 'Monetary Dark Patterns Absence', 'Social Dark Patterns Absence', 'Psychological Dark Patterns Absence']].sum()\n",
    "healthy_sums = healthy_df[['Temporal Dark Patterns Absence', 'Monetary Dark Patterns Absence', 'Social Dark Patterns Absence', 'Psychological Dark Patterns Absence']].sum()\n",
    "\n",
    "patterns = ['Temporal DP', 'Monetary DP', 'Social DP', 'Psychological DP']\n",
    "bar_width = 0.35\n",
    "opacity = 0.8\n",
    "\n",
    "# Farbpalette für Farbenblinde\n",
    "color_palette = sns.color_palette(\"colorblind\")\n",
    "\n",
    "fig, ax = plt.subplots()\n",
    "\n",
    "dark_bars = ax.bar(np.arange(len(patterns)), dark_sums, bar_width, alpha=opacity, color=color_palette[1], label='Dark Games')\n",
    "healthy_bars = ax.bar(np.arange(len(patterns)) + bar_width, healthy_sums, bar_width, alpha=opacity, color=color_palette[0], label='Healthy Games')\n",
    "\n",
    "\n",
    "ax.set_ylabel('Anzahl der Dark Patterns')\n",
    "ax.set_title('Vergleich der Dark Pattern Abwesenheit in Dark Games und Healthy Games')\n",
    "ax.legend()\n",
    "\n",
    "for i, v in enumerate(dark_sums):\n",
    "    ax.text(i, v + 1, str(v), ha='center', color='black', fontweight='bold')\n",
    "for i, v in enumerate(healthy_sums):\n",
    "    ax.text(i + bar_width, v + 1, str(v), ha='center', color='black', fontweight='bold')\n",
    "\n",
    "ax.set_xticks(np.arange(len(patterns)) + bar_width / 2)\n",
    "ax.set_xticklabels(patterns)\n",
    "plt.xticks(rotation=90)  \n",
    "\n",
    "plt.savefig('VergleichPatternAbsence.pdf', format='pdf', bbox_inches='tight')"
   ]
  },
  {
   "cell_type": "code",
   "execution_count": 32,
   "id": "9888ee67",
   "metadata": {},
   "outputs": [],
   "source": [
    "df_dr = pd.read_json('drating_cleaned.json')\n",
    "df_hr = pd.read_json('hrating_cleaned.json')"
   ]
  },
  {
   "cell_type": "code",
   "execution_count": 33,
   "id": "09aa3f5f",
   "metadata": {},
   "outputs": [],
   "source": [
    "df_dr = df_dr.dropna()\n",
    "df_dr_filtered = df_dr[(df_dr['Temporal Dark Patterns'].apply(lambda x: int(re.search(r'\\d+', str(x)).group())) > 1)\n",
    "                      & (df_dr['Monetary Dark Patterns'].apply(lambda x: int(re.search(r'\\d+', str(x)).group())) > 1)\n",
    "                      & (df_dr['Social Dark Patterns'].apply(lambda x: int(re.search(r'\\d+', str(x)).group())) > 1)\n",
    "                      & (df_dr['Psychological Dark Patterns'].apply(lambda x: int(re.search(r'\\d+', str(x)).group())) > 1)]\n",
    "\n",
    "df_hr = df_hr.dropna()\n",
    "df_hr_filtered = df_hr[(df_hr['Temporal Dark Patterns'].apply(lambda x: int(re.search(r'\\d+', str(x)).group())) > 1)\n",
    "                      & (df_hr['Monetary Dark Patterns'].apply(lambda x: int(re.search(r'\\d+', str(x)).group())) > 1)\n",
    "                      & (df_hr['Social Dark Patterns'].apply(lambda x: int(re.search(r'\\d+', str(x)).group())) > 1)\n",
    "                      & (df_hr['Psychological Dark Patterns'].apply(lambda x: int(re.search(r'\\d+', str(x)).group())) > 1)]\n"
   ]
  },
  {
   "cell_type": "code",
   "execution_count": 34,
   "id": "5b14bb6f",
   "metadata": {},
   "outputs": [],
   "source": [
    "df_dr['Price'] = df_dr['Price'].apply(lambda x: 'Not Free' if x != 'Free' else 'Free')\n",
    "df_hr['Price'] = df_hr['Price'].apply(lambda x: 'Not Free' if x != 'Free' else 'Free')"
   ]
  },
  {
   "cell_type": "code",
   "execution_count": 35,
   "id": "c4f01661",
   "metadata": {},
   "outputs": [],
   "source": [
    "df_dr['In App Purchases'] = df_dr['In App Purchases'].fillna('Unknown')\n",
    "df_hr['In App Purchases'] = df_hr['In App Purchases'].fillna('Unknown')"
   ]
  },
  {
   "cell_type": "code",
   "execution_count": 36,
   "id": "73da9710",
   "metadata": {},
   "outputs": [],
   "source": [
    "df_dr['Ads'] = df_dr['Ads'].fillna('Unknown')\n",
    "df_hr['Ads'] = df_hr['Ads'].fillna('Unknown')"
   ]
  },
  {
   "cell_type": "code",
   "execution_count": 37,
   "id": "b9bb07c2",
   "metadata": {
    "scrolled": true
   },
   "outputs": [
    {
     "name": "stdout",
     "output_type": "stream",
     "text": [
      "Anzahl der Preise in Dark Games:\n",
      "Free        816\n",
      "Not Free     27\n",
      "Name: Price, dtype: int64\n",
      "\n",
      "Anzahl der Preise in Healthy Games:\n",
      "Free        345\n",
      "Not Free    307\n",
      "Name: Price, dtype: int64\n"
     ]
    }
   ],
   "source": [
    "df_dr_counts = pd.value_counts(df_dr['Price'], normalize=False)\n",
    "\n",
    "df_hr_counts = pd.value_counts(df_hr['Price'], normalize=False)\n",
    "\n",
    "print(\"Anzahl der Preise in Dark Games:\")\n",
    "print(df_dr_counts)\n",
    "\n",
    "print(\"\\nAnzahl der Preise in Healthy Games:\")\n",
    "print(df_hr_counts)"
   ]
  },
  {
   "cell_type": "code",
   "execution_count": 38,
   "id": "6798ae4e",
   "metadata": {},
   "outputs": [
    {
     "data": {
      "image/png": "[encoded data removed]",
      "text/plain": [
       "<Figure size 576x432 with 1 Axes>"
      ]
     },
     "metadata": {
      "needs_background": "light"
     },
     "output_type": "display_data"
    }
   ],
   "source": [
    "# Farbpalette für Farbenblinde\n",
    "color_palette = sns.color_palette(\"colorblind\")\n",
    "\n",
    "df_dr_counts = pd.value_counts(df_dr['Price'], normalize=False)\n",
    "df_hr_counts = pd.value_counts(df_hr['Price'], normalize=False)\n",
    "\n",
    "fig, ax = plt.subplots(figsize=(8, 6))\n",
    "\n",
    "positions = np.arange(len(df_dr_counts))\n",
    "\n",
    "bar_width = 0.4\n",
    "\n",
    "ax.bar(positions, df_hr_counts, bar_width, color=color_palette[0], label='Healthy Games')\n",
    "ax.bar(positions + bar_width, df_dr_counts, bar_width, color=color_palette[1], label='Dark Games')\n",
    "\n",
    "ax.set_ylabel('Count')\n",
    "ax.set_xlabel('Price')\n",
    "ax.set_title('Price Distribution')\n",
    "ax.legend()\n",
    "\n",
    "ax.set_xticks(positions + bar_width / 2)\n",
    "ax.set_xticklabels(df_dr_counts.index)\n",
    "\n",
    "# Textbeschriftungen hinzufügen\n",
    "for i, v in enumerate(df_hr_counts):\n",
    "    ax.text(i, v + 1, str(v), color='black', fontweight='bold', ha='center')\n",
    "for i, v in enumerate(df_dr_counts):\n",
    "    ax.text(i + bar_width, v + 1, str(v), color='black', fontweight='bold', ha='center')\n",
    "    \n",
    "plt.savefig('VergleichPrice.pdf', format='pdf')"
   ]
  },
  {
   "cell_type": "code",
   "execution_count": 39,
   "id": "58b9b3bd",
   "metadata": {},
   "outputs": [
    {
     "data": {
      "image/png": "[encoded data removed]",
      "text/plain": [
       "<Figure size 576x432 with 1 Axes>"
      ]
     },
     "metadata": {
      "needs_background": "light"
     },
     "output_type": "display_data"
    }
   ],
   "source": [
    "df_dr_counts = pd.value_counts(df_dr['Ads'], normalize=False)\n",
    "df_hr_counts = pd.value_counts(df_hr['Ads'], normalize=False)\n",
    "\n",
    "fig, ax = plt.subplots(figsize=(8, 6))\n",
    "\n",
    "positions = np.arange(len(df_dr_counts))\n",
    "\n",
    "bar_width = 0.4\n",
    "\n",
    "# Farbpalette für Farbenblinde\n",
    "color_palette = sns.color_palette(\"colorblind\")\n",
    "\n",
    "ax.bar(positions, df_hr_counts, bar_width, color=color_palette[0], label='Healthy Games')\n",
    "ax.bar(positions + bar_width, df_dr_counts, bar_width, color=color_palette[1], label='Dark Games')\n",
    "\n",
    "ax.set_ylabel('Count')\n",
    "ax.set_xlabel('Ads')\n",
    "ax.set_title('Ads Distribution')\n",
    "ax.legend()\n",
    "\n",
    "ax.set_xticks(positions + bar_width / 2)\n",
    "ax.set_xticklabels(df_dr_counts.index)\n",
    "\n",
    "# Textbeschriftungen hinzufügen\n",
    "for i, v in enumerate(df_hr_counts):\n",
    "    ax.text(i, v + 1, str(v), color='black', fontweight='bold', ha='center')\n",
    "for i, v in enumerate(df_dr_counts):\n",
    "    ax.text(i + bar_width, v + 1, str(v), color='black', fontweight='bold', ha='center')\n",
    "\n",
    "plt.savefig('VergleichAds.pdf', format='pdf')"
   ]
  },
  {
   "cell_type": "code",
   "execution_count": 40,
   "id": "0eea88bc",
   "metadata": {},
   "outputs": [
    {
     "data": {
      "image/png": "[encoded data removed]",
      "text/plain": [
       "<Figure size 576x432 with 1 Axes>"
      ]
     },
     "metadata": {
      "needs_background": "light"
     },
     "output_type": "display_data"
    }
   ],
   "source": [
    "df_dr_counts = pd.value_counts(df_dr['In App Purchases'], normalize=False)\n",
    "df_hr_counts = pd.value_counts(df_hr['In App Purchases'], normalize=False)\n",
    "\n",
    "fig, ax = plt.subplots(figsize=(8, 6))\n",
    "\n",
    "positions = np.arange(len(df_dr_counts))\n",
    "\n",
    "bar_width = 0.4\n",
    "\n",
    "# Farbpalette für Farbenblinde\n",
    "color_palette = sns.color_palette(\"colorblind\")\n",
    "\n",
    "ax.bar(positions, df_hr_counts, bar_width, color=color_palette[0], label='Healthy Games')\n",
    "ax.bar(positions + bar_width, df_dr_counts, bar_width, color=color_palette[1], label='Dark Games')\n",
    "\n",
    "ax.set_ylabel('Count')\n",
    "ax.set_xlabel('In App Purchases')\n",
    "ax.set_title('In App Purchases Distribution')\n",
    "ax.legend()\n",
    "\n",
    "ax.set_xticks(positions + bar_width / 2)\n",
    "ax.set_xticklabels(df_dr_counts.index)\n",
    "\n",
    "# Textbeschriftungen hinzufügen\n",
    "for i, v in enumerate(df_hr_counts):\n",
    "    ax.text(i, v + 1, str(v), color='black', fontweight='bold', ha='center')\n",
    "for i, v in enumerate(df_dr_counts):\n",
    "    ax.text(i + bar_width, v + 1, str(v), color='black', fontweight='bold', ha='center')\n",
    "\n",
    "plt.savefig('VergleichInAppPurchases.pdf', format='pdf')"
   ]
  },
  {
   "cell_type": "code",
   "execution_count": 41,
   "id": "eac42843",
   "metadata": {},
   "outputs": [],
   "source": [
    "dark_kmeans = pd.read_csv('./d_dark_patterns.csv')\n",
    "healthy_kmeans = pd.read_csv('./h_dark_patterns.csv')"
   ]
  },
  {
   "cell_type": "code",
   "execution_count": 42,
   "id": "34fd5f0f",
   "metadata": {
    "scrolled": false
   },
   "outputs": [
    {
     "data": {
      "image/png": "[encoded data removed]",
      "text/plain": [
       "<Figure size 432x288 with 1 Axes>"
      ]
     },
     "metadata": {
      "needs_background": "light"
     },
     "output_type": "display_data"
    },
    {
     "data": {
      "image/png": "[encoded data removed]",
      "text/plain": [
       "<Figure size 432x288 with 1 Axes>"
      ]
     },
     "metadata": {
      "needs_background": "light"
     },
     "output_type": "display_data"
    }
   ],
   "source": [
    "def apply_kmeans(df, k):\n",
    "    df['Present_Sum'] = df[['Temporal Dark Patterns Present', 'Monetary Dark Patterns Present',\n",
    "                            'Social Dark Patterns Present', 'Psychological Dark Patterns Present']].sum(axis=1)\n",
    "    df['Absence_Sum'] = df[['Temporal Dark Patterns Absence', 'Monetary Dark Patterns Absence',\n",
    "                            'Social Dark Patterns Absence', 'Psychological Dark Patterns Absence']].sum(axis=1)\n",
    "\n",
    "    features = df[['Present_Sum', 'Absence_Sum']]\n",
    "\n",
    "    kmeans = KMeans(n_clusters=k)\n",
    "    kmeans.fit(features)\n",
    "\n",
    "    df['Cluster'] = kmeans.labels_\n",
    "\n",
    "    return df\n",
    "\n",
    "k = 2\n",
    "\n",
    "def save_cluster_plot(df, title, filename):\n",
    "    plt.scatter(df['Present_Sum'], df['Absence_Sum'], c=df['Cluster'])\n",
    "    plt.xlabel('Present_Sum')\n",
    "    plt.ylabel('Absence_Sum')\n",
    "    plt.title(title)\n",
    "    plt.savefig(filename, format='svg')\n",
    "    plt.close()\n",
    "\n",
    "clustered_dark_kmeans = apply_kmeans(dark_kmeans, k)\n",
    "\n",
    "clustered_healthy_kmeans = apply_kmeans(healthy_kmeans, k)\n",
    "\n",
    "plt.scatter(clustered_dark_kmeans['Present_Sum'], clustered_dark_kmeans['Absence_Sum'], c=clustered_dark_kmeans['Cluster'])\n",
    "plt.xlabel('Present_Sum')\n",
    "plt.ylabel('Absence_Sum')\n",
    "plt.title('Clustered dark_kmeans')\n",
    "plt.show()\n",
    "\n",
    "plt.scatter(clustered_healthy_kmeans['Present_Sum'], clustered_healthy_kmeans['Absence_Sum'], c=clustered_healthy_kmeans['Cluster'])\n",
    "plt.xlabel('Present_Sum')\n",
    "plt.ylabel('Absence_Sum')\n",
    "plt.title('Clustered healthy_kmeans')\n",
    "plt.show()"
   ]
  },
  {
   "cell_type": "code",
   "execution_count": 43,
   "id": "ce255f70",
   "metadata": {},
   "outputs": [],
   "source": [
    "clustered_dark_kmeans = apply_kmeans(dark_kmeans, k)\n",
    "save_cluster_plot(clustered_dark_kmeans, 'Clustered dark_kmeans', 'clustered_dark_kmeans.svg')\n",
    "\n",
    "clustered_healthy_kmeans = apply_kmeans(healthy_kmeans, k)\n",
    "save_cluster_plot(clustered_healthy_kmeans, 'Clustered healthy_kmeans', 'clustered_healthy_kmeans.svg')\n"
   ]
  },
  {
   "cell_type": "code",
   "execution_count": 44,
   "id": "ae55cf36",
   "metadata": {},
   "outputs": [
    {
     "name": "stdout",
     "output_type": "stream",
     "text": [
      "Total Absence: 166949\n",
      "Total Presence: 85388\n"
     ]
    },
    {
     "data": {
      "image/png": "[encoded data removed]",
      "text/plain": [
       "<Figure size 432x288 with 1 Axes>"
      ]
     },
     "metadata": {
      "needs_background": "light"
     },
     "output_type": "display_data"
    }
   ],
   "source": [
    "import pandas as pd\n",
    "from sklearn.cluster import KMeans\n",
    "import matplotlib.pyplot as plt\n",
    "\n",
    "# Lade die beiden Datensätze\n",
    "df_h = pd.read_csv(\"h_dark_patterns.csv\")\n",
    "df_d = pd.read_csv(\"d_dark_patterns.csv\")\n",
    "\n",
    "# Füge eine Spalte hinzu, um die Datensätze zu kennzeichnen (0 für h_dark_patterns, 1 für d_dark_patterns)\n",
    "df_h['Dataset'] = 0\n",
    "df_d['Dataset'] = 1\n",
    "\n",
    "# Kombiniere beide Datensätze\n",
    "df_combined = pd.concat([df_h, df_d], ignore_index=True)\n",
    "\n",
    "# Fasse die \"Absence\"-Spalten zusammen\n",
    "df_combined['Absence'] = df_combined['Temporal Dark Patterns Absence'] + df_combined['Monetary Dark Patterns Absence'] + df_combined['Social Dark Patterns Absence'] + df_combined['Psychological Dark Patterns Absence']\n",
    "\n",
    "# Fasse die \"Presence\"-Spalten zusammen\n",
    "df_combined['Presence'] = df_combined['Temporal Dark Patterns Present'] + df_combined['Monetary Dark Patterns Present'] + df_combined['Social Dark Patterns Present'] + df_combined['Psychological Dark Patterns Present']\n",
    "\n",
    "# Berechne die Summe von \"Absence\" und \"Presence\"\n",
    "total_absence = df_combined['Absence'].sum()\n",
    "total_presence = df_combined['Presence'].sum()\n",
    "\n",
    "# Drucke die Gesamtzahl von \"Absence\" und \"Presence\"\n",
    "print(\"Total Absence:\", total_absence)\n",
    "print(\"Total Presence:\", total_presence)\n",
    "\n",
    "# Führe die KMeans-Clusteranalyse durch\n",
    "X = df_combined[['Absence', 'Presence']]\n",
    "kmeans = KMeans(n_clusters=2)\n",
    "kmeans.fit(X)\n",
    "\n",
    "# Weise jedem Datenpunkt ein Cluster zu\n",
    "labels = kmeans.labels_\n",
    "\n",
    "# Visualisiere die Clusterergebnisse\n",
    "plt.scatter(X['Absence'], X['Presence'], c=labels)\n",
    "plt.xlabel('Absence')\n",
    "plt.ylabel('Presence')\n",
    "plt.title('KMeans Clustering')\n",
    "\n",
    "plt.savefig('cluster_plot.svg', format='svg')\n",
    "\n",
    "plt.show()\n",
    "\n"
   ]
  },
  {
   "cell_type": "code",
   "execution_count": 45,
   "id": "0fa58725",
   "metadata": {},
   "outputs": [
    {
     "name": "stdout",
     "output_type": "stream",
     "text": [
      "Silhouette Score: 0.9525140955099269\n"
     ]
    }
   ],
   "source": [
    "from sklearn.metrics import silhouette_score\n",
    "\n",
    "silhouette = silhouette_score(X, labels)\n",
    "print(\"Silhouette Score:\", silhouette)\n"
   ]
  },
  {
   "cell_type": "code",
   "execution_count": 46,
   "id": "cd484652",
   "metadata": {},
   "outputs": [
    {
     "name": "stdout",
     "output_type": "stream",
     "text": [
      "Inertia: 22070258.361540575\n"
     ]
    }
   ],
   "source": [
    "# Führe die KMeans-Clusteranalyse durch\n",
    "X = df_combined[['Temporal Dark Patterns Absence', 'Monetary Dark Patterns Absence', 'Social Dark Patterns Absence', 'Psychological Dark Patterns Absence',\n",
    "                 'Temporal Dark Patterns Present', 'Monetary Dark Patterns Present', 'Social Dark Patterns Present', 'Psychological Dark Patterns Present']]\n",
    "kmeans = KMeans(n_clusters=2)\n",
    "kmeans.fit(X)\n",
    "\n",
    "# Weise jedem Datenpunkt ein Cluster zu\n",
    "labels = kmeans.labels_\n",
    "\n",
    "# Berechne die Inertia\n",
    "inertia = kmeans.inertia_\n",
    "print(\"Inertia:\", inertia)\n"
   ]
  },
  {
   "cell_type": "code",
   "execution_count": 47,
   "id": "74f516da",
   "metadata": {},
   "outputs": [
    {
     "data": {
      "image/png": "[encoded data removed]",
      "text/plain": [
       "<Figure size 576x432 with 1 Axes>"
      ]
     },
     "metadata": {
      "needs_background": "light"
     },
     "output_type": "display_data"
    }
   ],
   "source": [
    "import pandas as pd\n",
    "from sklearn.cluster import KMeans\n",
    "import matplotlib.pyplot as plt\n",
    "from mpl_toolkits.mplot3d import Axes3D\n",
    "\n",
    "# Lade die beiden Datensätze\n",
    "df_h = pd.read_csv(\"h_dark_patterns.csv\")\n",
    "df_d = pd.read_csv(\"d_dark_patterns.csv\")\n",
    "\n",
    "# Füge eine Spalte hinzu, um die Datensätze zu kennzeichnen (0 für h_dark_patterns, 1 für d_dark_patterns)\n",
    "df_h['Dataset'] = 0\n",
    "df_d['Dataset'] = 1\n",
    "\n",
    "# Kombiniere beide Datensätze\n",
    "df_combined = pd.concat([df_h, df_d], ignore_index=True)\n",
    "\n",
    "# Fasse die \"Absence\"-Spalten zusammen\n",
    "df_combined['Absence'] = df_combined['Temporal Dark Patterns Absence'] + df_combined['Monetary Dark Patterns Absence'] + df_combined['Social Dark Patterns Absence'] + df_combined['Psychological Dark Patterns Absence']\n",
    "\n",
    "# Fasse die \"Presence\"-Spalten zusammen\n",
    "df_combined['Presence'] = df_combined['Temporal Dark Patterns Present'] + df_combined['Monetary Dark Patterns Present'] + df_combined['Social Dark Patterns Present'] + df_combined['Psychological Dark Patterns Present']\n",
    "\n",
    "# Führe die KMeans-Clusteranalyse durch\n",
    "X = df_combined[['Absence', 'Presence']]\n",
    "kmeans = KMeans(n_clusters=2)\n",
    "kmeans.fit(X)\n",
    "\n",
    "# Weise jedem Datenpunkt ein Cluster zu\n",
    "labels = kmeans.labels_\n",
    "\n",
    "# Visualisiere die Clusterergebnisse als 3D-Scatterplot\n",
    "fig = plt.figure(figsize=(8, 6))\n",
    "ax = fig.add_subplot(111, projection='3d')\n",
    "ax.scatter(X['Absence'], X['Presence'], c=labels)\n",
    "ax.set_xlabel('Absence')\n",
    "ax.set_ylabel('Presence')\n",
    "ax.set_zlabel('Dataset')\n",
    "ax.set_title('KMeans Clustering')\n",
    "\n",
    "plt.show()\n"
   ]
  },
  {
   "cell_type": "code",
   "execution_count": 48,
   "id": "94c46e2d",
   "metadata": {},
   "outputs": [
    {
     "name": "stdout",
     "output_type": "stream",
     "text": [
      "Accuracy: 0.9833333333333333\n"
     ]
    }
   ],
   "source": [
    "import pandas as pd\n",
    "from sklearn.model_selection import train_test_split\n",
    "from sklearn.linear_model import LogisticRegression\n",
    "from sklearn.metrics import accuracy_score\n",
    "\n",
    "# Lade die beiden Datensätze\n",
    "df_h = pd.read_csv(\"h_dark_patterns.csv\")\n",
    "df_d = pd.read_csv(\"d_dark_patterns.csv\")\n",
    "\n",
    "# Füge eine Spalte hinzu, um die Datensätze zu kennzeichnen (0 für h_dark_patterns, 1 für d_dark_patterns)\n",
    "df_h['Label'] = 0\n",
    "df_d['Label'] = 1\n",
    "\n",
    "# Kombiniere beide Datensätze\n",
    "df_combined = pd.concat([df_h, df_d], ignore_index=True)\n",
    "\n",
    "# Definiere Features (X) und Labels (y)\n",
    "X = df_combined[['Temporal Dark Patterns Absence', 'Monetary Dark Patterns Absence', 'Social Dark Patterns Absence', 'Psychological Dark Patterns Absence',\n",
    "                 'Temporal Dark Patterns Present', 'Monetary Dark Patterns Present', 'Social Dark Patterns Present', 'Psychological Dark Patterns Present']]\n",
    "y = df_combined['Label']\n",
    "\n",
    "# Teile die Daten in Trainings- und Testsets auf\n",
    "X_train, X_test, y_train, y_test = train_test_split(X, y, test_size=0.2, random_state=42)\n",
    "\n",
    "# Erstelle und trainiere das Klassifizierungsmodell (logistische Regression)\n",
    "model = LogisticRegression()\n",
    "model.fit(X_train, y_train)\n",
    "\n",
    "# Mache Vorhersagen für die Testdaten\n",
    "y_pred = model.predict(X_test)\n",
    "\n",
    "# Berechne die Genauigkeit der Vorhersagen\n",
    "accuracy = accuracy_score(y_test, y_pred)\n",
    "print(\"Accuracy:\", accuracy)\n"
   ]
  },
  {
   "cell_type": "code",
   "execution_count": 49,
   "id": "9f77608d",
   "metadata": {},
   "outputs": [
    {
     "data": {
      "text/html": [
       "<div>\n",
       "<style scoped>\n",
       "    .dataframe tbody tr th:only-of-type {\n",
       "        vertical-align: middle;\n",
       "    }\n",
       "\n",
       "    .dataframe tbody tr th {\n",
       "        vertical-align: top;\n",
       "    }\n",
       "\n",
       "    .dataframe thead th {\n",
       "        text-align: right;\n",
       "    }\n",
       "</style>\n",
       "<table border=\"1\" class=\"dataframe\">\n",
       "  <thead>\n",
       "    <tr style=\"text-align: right;\">\n",
       "      <th></th>\n",
       "      <th>Healthy Games</th>\n",
       "      <th>Dark Games</th>\n",
       "    </tr>\n",
       "    <tr>\n",
       "      <th>Ads</th>\n",
       "      <th></th>\n",
       "      <th></th>\n",
       "    </tr>\n",
       "  </thead>\n",
       "  <tbody>\n",
       "    <tr>\n",
       "      <th>Unknown</th>\n",
       "      <td>243</td>\n",
       "      <td>245</td>\n",
       "    </tr>\n",
       "    <tr>\n",
       "      <th>Yes</th>\n",
       "      <td>240</td>\n",
       "      <td>442</td>\n",
       "    </tr>\n",
       "    <tr>\n",
       "      <th>No</th>\n",
       "      <td>169</td>\n",
       "      <td>156</td>\n",
       "    </tr>\n",
       "  </tbody>\n",
       "</table>\n",
       "</div>"
      ],
      "text/plain": [
       "         Healthy Games  Dark Games\n",
       "Ads                               \n",
       "Unknown            243         245\n",
       "Yes                240         442\n",
       "No                 169         156"
      ]
     },
     "metadata": {},
     "output_type": "display_data"
    },
    {
     "data": {
      "text/html": [
       "<div>\n",
       "<style scoped>\n",
       "    .dataframe tbody tr th:only-of-type {\n",
       "        vertical-align: middle;\n",
       "    }\n",
       "\n",
       "    .dataframe tbody tr th {\n",
       "        vertical-align: top;\n",
       "    }\n",
       "\n",
       "    .dataframe thead th {\n",
       "        text-align: right;\n",
       "    }\n",
       "</style>\n",
       "<table border=\"1\" class=\"dataframe\">\n",
       "  <thead>\n",
       "    <tr style=\"text-align: right;\">\n",
       "      <th></th>\n",
       "      <th>Healthy Games</th>\n",
       "      <th>Dark Games</th>\n",
       "    </tr>\n",
       "    <tr>\n",
       "      <th>In App Purchases</th>\n",
       "      <th></th>\n",
       "      <th></th>\n",
       "    </tr>\n",
       "  </thead>\n",
       "  <tbody>\n",
       "    <tr>\n",
       "      <th>Yes</th>\n",
       "      <td>336</td>\n",
       "      <td>786</td>\n",
       "    </tr>\n",
       "    <tr>\n",
       "      <th>Unknown</th>\n",
       "      <td>162</td>\n",
       "      <td>41</td>\n",
       "    </tr>\n",
       "    <tr>\n",
       "      <th>No</th>\n",
       "      <td>154</td>\n",
       "      <td>16</td>\n",
       "    </tr>\n",
       "  </tbody>\n",
       "</table>\n",
       "</div>"
      ],
      "text/plain": [
       "                  Healthy Games  Dark Games\n",
       "In App Purchases                           \n",
       "Yes                         336         786\n",
       "Unknown                     162          41\n",
       "No                          154          16"
      ]
     },
     "metadata": {},
     "output_type": "display_data"
    },
    {
     "data": {
      "text/html": [
       "<div>\n",
       "<style scoped>\n",
       "    .dataframe tbody tr th:only-of-type {\n",
       "        vertical-align: middle;\n",
       "    }\n",
       "\n",
       "    .dataframe tbody tr th {\n",
       "        vertical-align: top;\n",
       "    }\n",
       "\n",
       "    .dataframe thead th {\n",
       "        text-align: right;\n",
       "    }\n",
       "</style>\n",
       "<table border=\"1\" class=\"dataframe\">\n",
       "  <thead>\n",
       "    <tr style=\"text-align: right;\">\n",
       "      <th></th>\n",
       "      <th>Healthy Games</th>\n",
       "      <th>Dark Games</th>\n",
       "    </tr>\n",
       "    <tr>\n",
       "      <th>Price</th>\n",
       "      <th></th>\n",
       "      <th></th>\n",
       "    </tr>\n",
       "  </thead>\n",
       "  <tbody>\n",
       "    <tr>\n",
       "      <th>Free</th>\n",
       "      <td>345</td>\n",
       "      <td>816</td>\n",
       "    </tr>\n",
       "    <tr>\n",
       "      <th>Not Free</th>\n",
       "      <td>307</td>\n",
       "      <td>27</td>\n",
       "    </tr>\n",
       "  </tbody>\n",
       "</table>\n",
       "</div>"
      ],
      "text/plain": [
       "          Healthy Games  Dark Games\n",
       "Price                              \n",
       "Free                345         816\n",
       "Not Free            307          27"
      ]
     },
     "metadata": {},
     "output_type": "display_data"
    }
   ],
   "source": [
    "# Code 1\n",
    "df_dr_counts_ads = pd.value_counts(df_dr['Ads'], normalize=False)\n",
    "df_hr_counts_ads = pd.value_counts(df_hr['Ads'], normalize=False)\n",
    "\n",
    "# Code 2\n",
    "df_dr_counts_in_app = pd.value_counts(df_dr['In App Purchases'], normalize=False)\n",
    "df_hr_counts_in_app = pd.value_counts(df_hr['In App Purchases'], normalize=False)\n",
    "\n",
    "# Code 3\n",
    "df_dr_counts_price = pd.value_counts(df_dr['Price'], normalize=False)\n",
    "df_hr_counts_price = pd.value_counts(df_hr['Price'], normalize=False)\n",
    "\n",
    "table_data = {\n",
    "    'Ads': pd.concat([df_hr_counts_ads, df_dr_counts_ads], axis=1, keys=['Healthy Games', 'Dark Games']),\n",
    "    'In App Purchases': pd.concat([df_hr_counts_in_app, df_dr_counts_in_app], axis=1, keys=['Healthy Games', 'Dark Games']),\n",
    "    'Price': pd.concat([df_hr_counts_price, df_dr_counts_price], axis=1, keys=['Healthy Games', 'Dark Games'])\n",
    "}\n",
    "\n",
    "for column, data in table_data.items():\n",
    "    display(pd.DataFrame(data, columns=['Healthy Games', 'Dark Games'], index=data.index).rename_axis(column))\n"
   ]
  },
  {
   "cell_type": "code",
   "execution_count": 50,
   "id": "54aee738",
   "metadata": {},
   "outputs": [
    {
     "name": "stdout",
     "output_type": "stream",
     "text": [
      "DataFrame df_d_info:\n",
      "          Price In App Purchases  Ads\n",
      "1          Free              Yes  Yes\n",
      "2          Free              Yes  Yes\n",
      "3          Free              Yes  Yes\n",
      "4          Free              Yes  Yes\n",
      "5      Not Free          Unknown  Yes\n",
      "...         ...              ...  ...\n",
      "840        Free              Yes  Yes\n",
      "841        Free              Yes  Yes\n",
      "8805       Free              Yes   No\n",
      "8896   Not Free               No   No\n",
      "23621      Free              Yes  Yes\n",
      "\n",
      "[843 rows x 3 columns]\n",
      "\n",
      "DataFrame df_h_info:\n",
      "          Price In App Purchases  Ads\n",
      "0      Not Free              Yes   No\n",
      "1      Not Free               No   No\n",
      "2      Not Free               No   No\n",
      "3      Not Free               No   No\n",
      "4      Not Free               No   No\n",
      "...         ...              ...  ...\n",
      "649        Free              Yes  Yes\n",
      "650        Free              Yes  Yes\n",
      "4019       Free              Yes  Yes\n",
      "18739  Not Free               No   No\n",
      "18831      Free              Yes   No\n",
      "\n",
      "[652 rows x 3 columns]\n"
     ]
    }
   ],
   "source": [
    "# Annahme: df_dr und df_hr sind bereits vorhanden\n",
    "# Transformationen für df_dr\n",
    "df_dr['Price'] = df_dr['Price'].apply(lambda x: 'Not Free' if x != 'Free' else 'Free')\n",
    "df_dr['In App Purchases'] = df_dr['In App Purchases'].fillna('Unknown')\n",
    "df_dr['Ads'] = df_dr['Ads'].fillna('Unknown')\n",
    "\n",
    "# Filtern der Zeilen basierend auf den Dark Patterns\n",
    "df_dr = df_dr.dropna()\n",
    "\n",
    "# Erstellen des df_d_info DataFrames\n",
    "df_d_info = pd.DataFrame({\n",
    "    'Price': df_dr['Price'],\n",
    "    'In App Purchases': df_dr['In App Purchases'],\n",
    "    'Ads': df_dr['Ads']\n",
    "})\n",
    "\n",
    "# Transformationen für df_hr\n",
    "df_hr['Price'] = df_hr['Price'].apply(lambda x: 'Not Free' if x != 'Free' else 'Free')\n",
    "df_hr['In App Purchases'] = df_hr['In App Purchases'].fillna('Unknown')\n",
    "df_hr['Ads'] = df_hr['Ads'].fillna('Unknown')\n",
    "\n",
    "# Filtern der Zeilen basierend auf den Dark Patterns\n",
    "df_hr = df_hr.dropna()\n",
    "\n",
    "# Erstellen des df_h_info DataFrames\n",
    "df_h_info = pd.DataFrame({\n",
    "    'Price': df_hr['Price'],\n",
    "    'In App Purchases': df_hr['In App Purchases'],\n",
    "    'Ads': df_hr['Ads']\n",
    "})\n",
    "\n",
    "# Anzeigen der DataFrames als Tabellen\n",
    "print(\"DataFrame df_d_info:\")\n",
    "print(df_d_info)\n",
    "\n",
    "print(\"\\nDataFrame df_h_info:\")\n",
    "print(df_h_info)"
   ]
  },
  {
   "cell_type": "code",
   "execution_count": 51,
   "id": "86373968",
   "metadata": {},
   "outputs": [
    {
     "name": "stdout",
     "output_type": "stream",
     "text": [
      "Verteilung der Price-Eigenschaft in df_d_info:\n",
      "Free        816\n",
      "Not Free     27\n",
      "Name: Price, dtype: int64\n",
      "Free        96.797153\n",
      "Not Free     3.202847\n",
      "Name: Price, dtype: float64\n",
      "\n",
      "Verteilung der In App Purchases-Eigenschaft in df_d_info:\n",
      "Yes        786\n",
      "Unknown     41\n",
      "No          16\n",
      "Name: In App Purchases, dtype: int64\n",
      "Yes        93.238434\n",
      "Unknown     4.863582\n",
      "No          1.897983\n",
      "Name: In App Purchases, dtype: float64\n",
      "\n",
      "Verteilung der Ads-Eigenschaft in df_d_info:\n",
      "Yes        442\n",
      "Unknown    245\n",
      "No         156\n",
      "Name: Ads, dtype: int64\n",
      "Yes        52.431791\n",
      "Unknown    29.062871\n",
      "No         18.505338\n",
      "Name: Ads, dtype: float64\n"
     ]
    }
   ],
   "source": [
    "# Berechnung der Häufigkeiten\n",
    "price_counts_dr = df_d_info['Price'].value_counts()\n",
    "iap_counts_dr = df_d_info['In App Purchases'].value_counts()\n",
    "ads_counts_dr = df_d_info['Ads'].value_counts()\n",
    "\n",
    "# Berechnung der Prozentsätze\n",
    "total_apps_dr = len(df_d_info)\n",
    "price_percentages_dr = price_counts_dr / total_apps_dr * 100\n",
    "iap_percentages_dr = iap_counts_dr / total_apps_dr * 100\n",
    "ads_percentages_dr = ads_counts_dr / total_apps_dr * 100\n",
    "\n",
    "# Anzeigen der Ergebnisse\n",
    "print(\"Verteilung der Price-Eigenschaft in df_d_info:\")\n",
    "print(price_counts_dr)\n",
    "print(price_percentages_dr)\n",
    "\n",
    "print(\"\\nVerteilung der In App Purchases-Eigenschaft in df_d_info:\")\n",
    "print(iap_counts_dr)\n",
    "print(iap_percentages_dr)\n",
    "\n",
    "print(\"\\nVerteilung der Ads-Eigenschaft in df_d_info:\")\n",
    "print(ads_counts_dr)\n",
    "print(ads_percentages_dr)\n"
   ]
  },
  {
   "cell_type": "code",
   "execution_count": 52,
   "id": "0f1beefe",
   "metadata": {},
   "outputs": [
    {
     "name": "stdout",
     "output_type": "stream",
     "text": [
      "Verteilung der Price-Eigenschaft in df_h_info:\n",
      "Free        345\n",
      "Not Free    307\n",
      "Name: Price, dtype: int64\n",
      "Free        52.91411\n",
      "Not Free    47.08589\n",
      "Name: Price, dtype: float64\n",
      "\n",
      "Verteilung der In App Purchases-Eigenschaft in df_h_info:\n",
      "Yes        336\n",
      "Unknown    162\n",
      "No         154\n",
      "Name: In App Purchases, dtype: int64\n",
      "Yes        51.533742\n",
      "Unknown    24.846626\n",
      "No         23.619632\n",
      "Name: In App Purchases, dtype: float64\n",
      "\n",
      "Verteilung der Ads-Eigenschaft in df_h_info:\n",
      "Unknown    243\n",
      "Yes        240\n",
      "No         169\n",
      "Name: Ads, dtype: int64\n",
      "Unknown    37.269939\n",
      "Yes        36.809816\n",
      "No         25.920245\n",
      "Name: Ads, dtype: float64\n"
     ]
    }
   ],
   "source": [
    "# Berechnung der Häufigkeiten\n",
    "price_counts_hr = df_h_info['Price'].value_counts()\n",
    "iap_counts_hr = df_h_info['In App Purchases'].value_counts()\n",
    "ads_counts_hr = df_h_info['Ads'].value_counts()\n",
    "\n",
    "# Berechnung der Prozentsätze\n",
    "total_apps_hr = len(df_h_info)\n",
    "price_percentages_hr = price_counts_hr / total_apps_hr * 100\n",
    "iap_percentages_hr = iap_counts_hr / total_apps_hr * 100\n",
    "ads_percentages_hr = ads_counts_hr / total_apps_hr * 100\n",
    "\n",
    "# Anzeigen der Ergebnisse\n",
    "print(\"Verteilung der Price-Eigenschaft in df_h_info:\")\n",
    "print(price_counts_hr)\n",
    "print(price_percentages_hr)\n",
    "\n",
    "print(\"\\nVerteilung der In App Purchases-Eigenschaft in df_h_info:\")\n",
    "print(iap_counts_hr)\n",
    "print(iap_percentages_hr)\n",
    "\n",
    "print(\"\\nVerteilung der Ads-Eigenschaft in df_h_info:\")\n",
    "print(ads_counts_hr)\n",
    "print(ads_percentages_hr)\n"
   ]
  },
  {
   "cell_type": "code",
   "execution_count": 53,
   "id": "f4746f2b",
   "metadata": {},
   "outputs": [
    {
     "name": "stdout",
     "output_type": "stream",
     "text": [
      "Accuracy: 0.9833333333333333\n"
     ]
    }
   ],
   "source": [
    "import pandas as pd\n",
    "from sklearn.model_selection import train_test_split\n",
    "from sklearn.linear_model import LogisticRegression\n",
    "from sklearn.metrics import accuracy_score\n",
    "\n",
    "# Lese die Datensätze ein\n",
    "df_h = pd.read_csv(\"df_h.csv\")\n",
    "df_d = pd.read_csv(\"df_d.csv\")\n",
    "\n",
    "# Füge eine Spalte hinzu, um zwischen den beiden Datensätzen zu unterscheiden\n",
    "df_h['Label'] = 'Healthy'\n",
    "df_d['Label'] = 'Dark'\n",
    "\n",
    "# Kombiniere die Datensätze\n",
    "df_combined = pd.concat([df_h, df_d], ignore_index=True)\n",
    "\n",
    "# Aufteilung in Features (X) und Labels (y)\n",
    "X = df_combined.drop('Label', axis=1)\n",
    "y = df_combined['Label']\n",
    "\n",
    "# Teile die Daten in Trainings- und Testsets auf\n",
    "X_train, X_test, y_train, y_test = train_test_split(X, y, test_size=0.2, random_state=42)\n",
    "\n",
    "# Initialisiere den linearen Klassifikator (Logistic Regression)\n",
    "classifier = LogisticRegression()\n",
    "\n",
    "# Trainiere den Klassifikator auf den Trainingsdaten\n",
    "classifier.fit(X_train, y_train)\n",
    "\n",
    "# Vorhersagen auf den Testdaten\n",
    "y_pred = classifier.predict(X_test)\n",
    "\n",
    "# Evaluieren des Klassifikators\n",
    "accuracy = accuracy_score(y_test, y_pred)\n",
    "print(\"Accuracy:\", accuracy)\n"
   ]
  },
  {
   "cell_type": "code",
   "execution_count": 54,
   "id": "37082f6f",
   "metadata": {},
   "outputs": [
    {
     "data": {
      "image/png": "[encoded data removed]",
      "text/plain": [
       "<Figure size 432x288 with 2 Axes>"
      ]
     },
     "metadata": {
      "needs_background": "light"
     },
     "output_type": "display_data"
    },
    {
     "name": "stdout",
     "output_type": "stream",
     "text": [
      "Accuracy: 0.9833333333333333\n"
     ]
    }
   ],
   "source": [
    "import pandas as pd\n",
    "from sklearn.model_selection import train_test_split\n",
    "from sklearn.linear_model import LogisticRegression\n",
    "from sklearn.metrics import accuracy_score, confusion_matrix\n",
    "import seaborn as sns\n",
    "import matplotlib.pyplot as plt\n",
    "\n",
    "# Lese die Datensätze ein\n",
    "df_h = pd.read_csv(\"df_h.csv\")\n",
    "df_d = pd.read_csv(\"df_d.csv\")\n",
    "\n",
    "# Füge eine Spalte hinzu, um zwischen den beiden Datensätzen zu unterscheiden\n",
    "df_h['Label'] = 'Healthy'\n",
    "df_d['Label'] = 'Dark'\n",
    "\n",
    "# Kombiniere die Datensätze\n",
    "df_combined = pd.concat([df_h, df_d], ignore_index=True)\n",
    "\n",
    "# Aufteilung in Features (X) und Labels (y)\n",
    "X = df_combined.drop('Label', axis=1)\n",
    "y = df_combined['Label']\n",
    "\n",
    "# Teile die Daten in Trainings- und Testsets auf\n",
    "X_train, X_test, y_train, y_test = train_test_split(X, y, test_size=0.2, random_state=42)\n",
    "\n",
    "# Initialisiere den linearen Klassifikator (Logistic Regression)\n",
    "classifier = LogisticRegression()\n",
    "\n",
    "# Trainiere den Klassifikator auf den Trainingsdaten\n",
    "classifier.fit(X_train, y_train)\n",
    "\n",
    "# Vorhersagen auf den Testdaten\n",
    "y_pred = classifier.predict(X_test)\n",
    "\n",
    "# Erstelle eine Konfusionsmatrix\n",
    "confusion = confusion_matrix(y_test, y_pred)\n",
    "\n",
    "# Visualisiere die Konfusionsmatrix als Heatmap\n",
    "sns.heatmap(confusion, annot=True, fmt='d', cmap='Blues', xticklabels=['Dark', 'Healthy'], yticklabels=['Dark', 'Healthy'])\n",
    "plt.xlabel('Vorhersage')\n",
    "plt.ylabel('Wahre Labels')\n",
    "plt.title('Konfusionsmatrix')\n",
    "plt.show()\n",
    "\n",
    "# Evaluieren des Klassifikators\n",
    "accuracy = accuracy_score(y_test, y_pred)\n",
    "print(\"Accuracy:\", accuracy)\n"
   ]
  },
  {
   "cell_type": "code",
   "execution_count": 55,
   "id": "f3507e5b",
   "metadata": {},
   "outputs": [
    {
     "data": {
      "image/png": "[encoded data removed]",
      "text/plain": [
       "<Figure size 720x432 with 1 Axes>"
      ]
     },
     "metadata": {
      "needs_background": "light"
     },
     "output_type": "display_data"
    },
    {
     "data": {
      "image/png": "[encoded data removed]",
      "text/plain": [
       "<Figure size 720x432 with 1 Axes>"
      ]
     },
     "metadata": {
      "needs_background": "light"
     },
     "output_type": "display_data"
    }
   ],
   "source": [
    "import pandas as pd\n",
    "import matplotlib.pyplot as plt\n",
    "import seaborn as sns\n",
    "\n",
    "# Lade die Datensätze\n",
    "df_h = pd.read_csv(\"df_h.csv\")\n",
    "df_d = pd.read_csv(\"df_d.csv\")\n",
    "\n",
    "# Wähle die relevanten Spalten aus\n",
    "present_columns = ['Temporal Dark Patterns Present', 'Monetary Dark Patterns Present', 'Social Dark Patterns Present', 'Psychological Dark Patterns Present']\n",
    "absence_columns = ['Temporal Dark Patterns Absence', 'Monetary Dark Patterns Absence', 'Social Dark Patterns Absence', 'Psychological Dark Patterns Absence']\n",
    "\n",
    "# Füge eine Spalte für die Kategorie hinzu\n",
    "df_h['Category'] = 'Healthy'\n",
    "df_d['Category'] = 'Dark'\n",
    "\n",
    "# Kombiniere die Datensätze\n",
    "combined_df = pd.concat([df_h, df_d])\n",
    "\n",
    "# Mache die Indexierung flach\n",
    "combined_df = combined_df.reset_index(drop=True)\n",
    "\n",
    "# Vergleiche die Verteilung der \"present\" Spalten\n",
    "plt.figure(figsize=(10, 6))\n",
    "sns.boxplot(data=combined_df, x='Category', y=present_columns[0])\n",
    "plt.title(\"Vergleich der Verteilung der 'present' Spalten\")\n",
    "plt.xlabel(\"Kategorie\")\n",
    "plt.ylabel(\"Anzahl der Vorkommen\")\n",
    "plt.show()\n",
    "\n",
    "# Vergleiche die Verteilung der \"absence\" Spalten\n",
    "plt.figure(figsize=(10, 6))\n",
    "sns.boxplot(data=combined_df, x='Category', y=absence_columns[0])\n",
    "plt.title(\"Vergleich der Verteilung der 'absence' Spalten\")\n",
    "plt.xlabel(\"Kategorie\")\n",
    "plt.ylabel(\"Anzahl der Vorkommen\")\n",
    "plt.show()\n"
   ]
  },
  {
   "cell_type": "code",
   "execution_count": 56,
   "id": "747405cf",
   "metadata": {},
   "outputs": [
    {
     "name": "stdout",
     "output_type": "stream",
     "text": [
      "Temporal - t-statistic: 6.0587057060747265, p-value: 1.7337333554233735e-09\n",
      "Monetary - t-statistic: 6.902085365756499, p-value: 7.549290226196068e-12\n",
      "Social - t-statistic: 5.728668335693511, p-value: 1.222014432069426e-08\n",
      "Psychological - t-statistic: 5.518912485251495, p-value: 4.015403353527888e-08\n"
     ]
    }
   ],
   "source": [
    "from scipy.stats import ttest_ind\n",
    "\n",
    "patterns = [\n",
    "    'Temporal', 'Monetary', 'Social', 'Psychological'\n",
    "]\n",
    "for pattern in patterns:\n",
    "    dark_data = dark_df[pattern + ' Dark Patterns Present']\n",
    "    healthy_data = healthy_df[pattern + ' Dark Patterns Present']\n",
    "    \n",
    "    t_stat, p_value = ttest_ind(dark_data, healthy_data)\n",
    "    print(f\"{pattern} - t-statistic: {t_stat}, p-value: {p_value}\")"
   ]
  },
  {
   "cell_type": "code",
   "execution_count": 57,
   "id": "2ca5a117",
   "metadata": {},
   "outputs": [
    {
     "name": "stdout",
     "output_type": "stream",
     "text": [
      "Temporal - t-statistic: -4.1732775219844465, p-value: 3.175576188158215e-05\n",
      "Monetary - t-statistic: -4.022810786111369, p-value: 6.038281753589354e-05\n",
      "Social - t-statistic: -3.135201091519671, p-value: 0.001750807801991638\n",
      "Psychological - t-statistic: -4.451035873847302, p-value: 9.179774101251839e-06\n"
     ]
    }
   ],
   "source": [
    "from scipy.stats import ttest_ind\n",
    "\n",
    "patterns = [\n",
    "    'Temporal', 'Monetary', 'Social', 'Psychological'\n",
    "]\n",
    "\n",
    "for pattern in patterns:\n",
    "    dark_data = dark_df[pattern + ' Dark Patterns Absence']\n",
    "    healthy_data = healthy_df[pattern + ' Dark Patterns Absence']\n",
    "    \n",
    "    t_stat, p_value = ttest_ind(dark_data, healthy_data)\n",
    "    print(f\"{pattern} - t-statistic: {t_stat}, p-value: {p_value}\")"
   ]
  },
  {
   "cell_type": "code",
   "execution_count": null,
   "id": "3ebfae71",
   "metadata": {},
   "outputs": [],
   "source": []
  }
 ],
 "metadata": {
  "kernelspec": {
   "display_name": "Python 3 (ipykernel)",
   "language": "python",
   "name": "python3"
  },
  "language_info": {
   "codemirror_mode": {
    "name": "ipython",
    "version": 3
   },
   "file_extension": ".py",
   "mimetype": "text/x-python",
   "name": "python",
   "nbconvert_exporter": "python",
   "pygments_lexer": "ipython3",
   "version": "3.9.7"
  }
 },
 "nbformat": 4,
 "nbformat_minor": 5
}
