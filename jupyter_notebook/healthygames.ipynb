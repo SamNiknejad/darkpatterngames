{
 "cells": [
  {
   "cell_type": "code",
   "execution_count": 1,
   "id": "e7468487",
   "metadata": {},
   "outputs": [],
   "source": [
    "import re\n",
    "import json\n",
    "import pandas as pd\n",
    "import numpy as np\n",
    "import os\n",
    "\n",
    "import seaborn as sns\n",
    "from matplotlib import pyplot as plt\n",
    "\n",
    "import warnings\n",
    "warnings.filterwarnings('ignore')"
   ]
  },
  {
   "cell_type": "code",
   "execution_count": 2,
   "id": "f254f03f",
   "metadata": {},
   "outputs": [],
   "source": [
    "f = open('healthygames/hrating.json')\n",
    "\n",
    "js = json.load(f)"
   ]
  },
  {
   "cell_type": "code",
   "execution_count": 3,
   "id": "75327230",
   "metadata": {},
   "outputs": [],
   "source": [
    "nn_jj = []\n",
    "nd = {}\n",
    "\n",
    "for line in js:\n",
    "    if 'title' in line:\n",
    "        nd = {}\n",
    "        nn_jj.append(nd)\n",
    "        nd['title'] = line['title'][0].split(\"'\")[1]\n",
    "    elif 'reported' in line:\n",
    "        try:\n",
    "            nd[line['reported'][1]] = line['reported'][3]\n",
    "        except:\n",
    "            pass\n",
    "    elif 'price' in line:\n",
    "        nd['Price'] = line['price'][0].strip().split(':')[1].strip()\n",
    "        nd['Ads'] = line['price'][1].strip().split(':')[1].strip()\n",
    "        nd['In App Purchases'] = line['price'][2].strip().split(':')[1].strip()"
   ]
  },
  {
   "cell_type": "code",
   "execution_count": 4,
   "id": "771a621d",
   "metadata": {},
   "outputs": [],
   "source": [
    "with open('hrating_cleaned.json', 'w') as f:\n",
    "    json.dump(nn_jj, f)"
   ]
  },
  {
   "cell_type": "code",
   "execution_count": 5,
   "id": "3e949eca",
   "metadata": {},
   "outputs": [],
   "source": [
    "df = pd.read_json('hrating_cleaned.json')"
   ]
  },
  {
   "cell_type": "code",
   "execution_count": 6,
   "id": "e2a8aab1",
   "metadata": {},
   "outputs": [
    {
     "data": {
      "text/html": [
       "<div>\n",
       "<style scoped>\n",
       "    .dataframe tbody tr th:only-of-type {\n",
       "        vertical-align: middle;\n",
       "    }\n",
       "\n",
       "    .dataframe tbody tr th {\n",
       "        vertical-align: top;\n",
       "    }\n",
       "\n",
       "    .dataframe thead th {\n",
       "        text-align: right;\n",
       "    }\n",
       "</style>\n",
       "<table border=\"1\" class=\"dataframe\">\n",
       "  <thead>\n",
       "    <tr style=\"text-align: right;\">\n",
       "      <th></th>\n",
       "      <th>title</th>\n",
       "      <th>Temporal Dark Patterns</th>\n",
       "      <th>Monetary Dark Patterns</th>\n",
       "      <th>Social Dark Patterns</th>\n",
       "      <th>Psychological Dark Patterns</th>\n",
       "      <th>Price</th>\n",
       "      <th>Ads</th>\n",
       "      <th>In App Purchases</th>\n",
       "    </tr>\n",
       "  </thead>\n",
       "  <tbody>\n",
       "    <tr>\n",
       "      <th>0</th>\n",
       "      <td>Hidden Folks</td>\n",
       "      <td>This game has 0 reported Temporal Dark Pattern...</td>\n",
       "      <td>This game has 0 reported Monetary Dark Pattern...</td>\n",
       "      <td>This game has 0 reported Social Dark Patterns....</td>\n",
       "      <td>This game has 0 reported Psychological Dark Pa...</td>\n",
       "      <td>$4.99</td>\n",
       "      <td>No</td>\n",
       "      <td>Yes</td>\n",
       "    </tr>\n",
       "    <tr>\n",
       "      <th>1</th>\n",
       "      <td>Sandwich Sudoku</td>\n",
       "      <td>This game has 0 reported Temporal Dark Pattern...</td>\n",
       "      <td>This game has 0 reported Monetary Dark Pattern...</td>\n",
       "      <td>This game has 0 reported Social Dark Patterns....</td>\n",
       "      <td>This game has 0 reported Psychological Dark Pa...</td>\n",
       "      <td>$4.99</td>\n",
       "      <td>No</td>\n",
       "      <td>No</td>\n",
       "    </tr>\n",
       "    <tr>\n",
       "      <th>2</th>\n",
       "      <td>Peace, Death!</td>\n",
       "      <td>This game has 0 reported Temporal Dark Pattern...</td>\n",
       "      <td>This game has 0 reported Monetary Dark Pattern...</td>\n",
       "      <td>This game has 0 reported Social Dark Patterns....</td>\n",
       "      <td>This game has 0 reported Psychological Dark Pa...</td>\n",
       "      <td>$1.99</td>\n",
       "      <td>No</td>\n",
       "      <td>No</td>\n",
       "    </tr>\n",
       "    <tr>\n",
       "      <th>3</th>\n",
       "      <td>Vignettes</td>\n",
       "      <td>This game has 0 reported Temporal Dark Pattern...</td>\n",
       "      <td>This game has 0 reported Monetary Dark Pattern...</td>\n",
       "      <td>This game has 0 reported Social Dark Patterns....</td>\n",
       "      <td>This game has 0 reported Psychological Dark Pa...</td>\n",
       "      <td>$2.99</td>\n",
       "      <td>No</td>\n",
       "      <td>No</td>\n",
       "    </tr>\n",
       "    <tr>\n",
       "      <th>4</th>\n",
       "      <td>Root Board Game</td>\n",
       "      <td>This game has 0 reported Temporal Dark Pattern...</td>\n",
       "      <td>This game has 0 reported Monetary Dark Pattern...</td>\n",
       "      <td>This game has 0 reported Social Dark Patterns....</td>\n",
       "      <td>This game has 0 reported Psychological Dark Pa...</td>\n",
       "      <td>$9.99</td>\n",
       "      <td>No</td>\n",
       "      <td>No</td>\n",
       "    </tr>\n",
       "    <tr>\n",
       "      <th>...</th>\n",
       "      <td>...</td>\n",
       "      <td>...</td>\n",
       "      <td>...</td>\n",
       "      <td>...</td>\n",
       "      <td>...</td>\n",
       "      <td>...</td>\n",
       "      <td>...</td>\n",
       "      <td>...</td>\n",
       "    </tr>\n",
       "    <tr>\n",
       "      <th>26790</th>\n",
       "      <td>抢红包-全天24小时不间断红包雨！</td>\n",
       "      <td>NaN</td>\n",
       "      <td>NaN</td>\n",
       "      <td>NaN</td>\n",
       "      <td>NaN</td>\n",
       "      <td>$2.99</td>\n",
       "      <td>Yes</td>\n",
       "      <td>Unknown</td>\n",
       "    </tr>\n",
       "    <tr>\n",
       "      <th>26791</th>\n",
       "      <td>Slippy Evolution</td>\n",
       "      <td>NaN</td>\n",
       "      <td>NaN</td>\n",
       "      <td>NaN</td>\n",
       "      <td>NaN</td>\n",
       "      <td>$0.99</td>\n",
       "      <td>Unknown</td>\n",
       "      <td>Unknown</td>\n",
       "    </tr>\n",
       "    <tr>\n",
       "      <th>26792</th>\n",
       "      <td>Fun Classic Board Games - Play MONOPOLY CLUE, ...</td>\n",
       "      <td>NaN</td>\n",
       "      <td>NaN</td>\n",
       "      <td>NaN</td>\n",
       "      <td>NaN</td>\n",
       "      <td>$10.99</td>\n",
       "      <td>Unknown</td>\n",
       "      <td>Yes</td>\n",
       "    </tr>\n",
       "    <tr>\n",
       "      <th>26793</th>\n",
       "      <td>THE GAME OF LIFE Value Pack - 15% off hours of...</td>\n",
       "      <td>NaN</td>\n",
       "      <td>NaN</td>\n",
       "      <td>NaN</td>\n",
       "      <td>NaN</td>\n",
       "      <td>$6.99</td>\n",
       "      <td>Unknown</td>\n",
       "      <td>Yes</td>\n",
       "    </tr>\n",
       "    <tr>\n",
       "      <th>26794</th>\n",
       "      <td>STAR WARS™ KOTOR Bundle</td>\n",
       "      <td>NaN</td>\n",
       "      <td>NaN</td>\n",
       "      <td>NaN</td>\n",
       "      <td>NaN</td>\n",
       "      <td>$19.98</td>\n",
       "      <td>Unknown</td>\n",
       "      <td>Unknown</td>\n",
       "    </tr>\n",
       "  </tbody>\n",
       "</table>\n",
       "<p>26795 rows × 8 columns</p>\n",
       "</div>"
      ],
      "text/plain": [
       "                                                   title  \\\n",
       "0                                           Hidden Folks   \n",
       "1                                        Sandwich Sudoku   \n",
       "2                                          Peace, Death!   \n",
       "3                                              Vignettes   \n",
       "4                                        Root Board Game   \n",
       "...                                                  ...   \n",
       "26790                                  抢红包-全天24小时不间断红包雨！   \n",
       "26791                                   Slippy Evolution   \n",
       "26792  Fun Classic Board Games - Play MONOPOLY CLUE, ...   \n",
       "26793  THE GAME OF LIFE Value Pack - 15% off hours of...   \n",
       "26794                            STAR WARS™ KOTOR Bundle   \n",
       "\n",
       "                                  Temporal Dark Patterns  \\\n",
       "0      This game has 0 reported Temporal Dark Pattern...   \n",
       "1      This game has 0 reported Temporal Dark Pattern...   \n",
       "2      This game has 0 reported Temporal Dark Pattern...   \n",
       "3      This game has 0 reported Temporal Dark Pattern...   \n",
       "4      This game has 0 reported Temporal Dark Pattern...   \n",
       "...                                                  ...   \n",
       "26790                                                NaN   \n",
       "26791                                                NaN   \n",
       "26792                                                NaN   \n",
       "26793                                                NaN   \n",
       "26794                                                NaN   \n",
       "\n",
       "                                  Monetary Dark Patterns  \\\n",
       "0      This game has 0 reported Monetary Dark Pattern...   \n",
       "1      This game has 0 reported Monetary Dark Pattern...   \n",
       "2      This game has 0 reported Monetary Dark Pattern...   \n",
       "3      This game has 0 reported Monetary Dark Pattern...   \n",
       "4      This game has 0 reported Monetary Dark Pattern...   \n",
       "...                                                  ...   \n",
       "26790                                                NaN   \n",
       "26791                                                NaN   \n",
       "26792                                                NaN   \n",
       "26793                                                NaN   \n",
       "26794                                                NaN   \n",
       "\n",
       "                                    Social Dark Patterns  \\\n",
       "0      This game has 0 reported Social Dark Patterns....   \n",
       "1      This game has 0 reported Social Dark Patterns....   \n",
       "2      This game has 0 reported Social Dark Patterns....   \n",
       "3      This game has 0 reported Social Dark Patterns....   \n",
       "4      This game has 0 reported Social Dark Patterns....   \n",
       "...                                                  ...   \n",
       "26790                                                NaN   \n",
       "26791                                                NaN   \n",
       "26792                                                NaN   \n",
       "26793                                                NaN   \n",
       "26794                                                NaN   \n",
       "\n",
       "                             Psychological Dark Patterns   Price      Ads  \\\n",
       "0      This game has 0 reported Psychological Dark Pa...   $4.99       No   \n",
       "1      This game has 0 reported Psychological Dark Pa...   $4.99       No   \n",
       "2      This game has 0 reported Psychological Dark Pa...   $1.99       No   \n",
       "3      This game has 0 reported Psychological Dark Pa...   $2.99       No   \n",
       "4      This game has 0 reported Psychological Dark Pa...   $9.99       No   \n",
       "...                                                  ...     ...      ...   \n",
       "26790                                                NaN   $2.99      Yes   \n",
       "26791                                                NaN   $0.99  Unknown   \n",
       "26792                                                NaN  $10.99  Unknown   \n",
       "26793                                                NaN   $6.99  Unknown   \n",
       "26794                                                NaN  $19.98  Unknown   \n",
       "\n",
       "      In App Purchases  \n",
       "0                  Yes  \n",
       "1                   No  \n",
       "2                   No  \n",
       "3                   No  \n",
       "4                   No  \n",
       "...                ...  \n",
       "26790          Unknown  \n",
       "26791          Unknown  \n",
       "26792              Yes  \n",
       "26793              Yes  \n",
       "26794          Unknown  \n",
       "\n",
       "[26795 rows x 8 columns]"
      ]
     },
     "execution_count": 6,
     "metadata": {},
     "output_type": "execute_result"
    }
   ],
   "source": [
    "df"
   ]
  },
  {
   "cell_type": "code",
   "execution_count": 7,
   "id": "ad97e141",
   "metadata": {},
   "outputs": [],
   "source": [
    "dark_patterns_df = df[['Temporal Dark Patterns', 'Monetary Dark Patterns', \n",
    "                       'Social Dark Patterns', 'Psychological Dark Patterns']].dropna()"
   ]
  },
  {
   "cell_type": "code",
   "execution_count": 8,
   "id": "d4726967",
   "metadata": {},
   "outputs": [],
   "source": [
    "dark_patterns_df['Temporal Dark Patterns Present'] = dark_patterns_df['Temporal Dark Patterns'].apply(lambda x: int(re.search(r'\\d+', x).group()))\n",
    "dark_patterns_df['Monetary Dark Patterns Present'] = dark_patterns_df['Monetary Dark Patterns'].apply(lambda x: int(re.search(r'\\d+', x).group()))\n",
    "dark_patterns_df['Social Dark Patterns Present'] = dark_patterns_df['Social Dark Patterns'].apply(lambda x: int(re.search(r'\\d+', x).group()))\n",
    "dark_patterns_df['Psychological Dark Patterns Present'] = dark_patterns_df['Psychological Dark Patterns'].apply(lambda x: int(re.search(r'\\d+', x).group()))\n",
    "\n",
    "dark_patterns_df['Temporal Dark Patterns Absence'] = dark_patterns_df['Temporal Dark Patterns'].apply(lambda x: int(re.search(r'\\d+', x.split('.')[1]).group()))\n",
    "dark_patterns_df['Monetary Dark Patterns Absence'] = dark_patterns_df['Monetary Dark Patterns'].apply(lambda x: int(re.search(r'\\d+', x.split('.')[1]).group()))\n",
    "dark_patterns_df['Social Dark Patterns Absence'] = dark_patterns_df['Social Dark Patterns'].apply(lambda x: int(re.search(r'\\d+', x.split('.')[1]).group()))\n",
    "dark_patterns_df['Psychological Dark Patterns Absence'] = dark_patterns_df['Psychological Dark Patterns'].apply(lambda x: int(re.search(r'\\d+', x.split('.')[1]).group()))"
   ]
  },
  {
   "cell_type": "code",
   "execution_count": 9,
   "id": "ba6130c0",
   "metadata": {},
   "outputs": [
    {
     "data": {
      "text/html": [
       "<div>\n",
       "<style scoped>\n",
       "    .dataframe tbody tr th:only-of-type {\n",
       "        vertical-align: middle;\n",
       "    }\n",
       "\n",
       "    .dataframe tbody tr th {\n",
       "        vertical-align: top;\n",
       "    }\n",
       "\n",
       "    .dataframe thead th {\n",
       "        text-align: right;\n",
       "    }\n",
       "</style>\n",
       "<table border=\"1\" class=\"dataframe\">\n",
       "  <thead>\n",
       "    <tr style=\"text-align: right;\">\n",
       "      <th></th>\n",
       "      <th>Temporal Dark Patterns Present</th>\n",
       "      <th>Monetary Dark Patterns Present</th>\n",
       "      <th>Social Dark Patterns Present</th>\n",
       "      <th>Psychological Dark Patterns Present</th>\n",
       "      <th>Temporal Dark Patterns Absence</th>\n",
       "      <th>Monetary Dark Patterns Absence</th>\n",
       "      <th>Social Dark Patterns Absence</th>\n",
       "      <th>Psychological Dark Patterns Absence</th>\n",
       "    </tr>\n",
       "  </thead>\n",
       "  <tbody>\n",
       "    <tr>\n",
       "      <th>0</th>\n",
       "      <td>0</td>\n",
       "      <td>0</td>\n",
       "      <td>0</td>\n",
       "      <td>0</td>\n",
       "      <td>21</td>\n",
       "      <td>33</td>\n",
       "      <td>21</td>\n",
       "      <td>21</td>\n",
       "    </tr>\n",
       "    <tr>\n",
       "      <th>1</th>\n",
       "      <td>0</td>\n",
       "      <td>0</td>\n",
       "      <td>0</td>\n",
       "      <td>0</td>\n",
       "      <td>14</td>\n",
       "      <td>22</td>\n",
       "      <td>14</td>\n",
       "      <td>14</td>\n",
       "    </tr>\n",
       "    <tr>\n",
       "      <th>2</th>\n",
       "      <td>0</td>\n",
       "      <td>0</td>\n",
       "      <td>0</td>\n",
       "      <td>0</td>\n",
       "      <td>14</td>\n",
       "      <td>22</td>\n",
       "      <td>14</td>\n",
       "      <td>11</td>\n",
       "    </tr>\n",
       "    <tr>\n",
       "      <th>3</th>\n",
       "      <td>0</td>\n",
       "      <td>0</td>\n",
       "      <td>0</td>\n",
       "      <td>0</td>\n",
       "      <td>7</td>\n",
       "      <td>11</td>\n",
       "      <td>7</td>\n",
       "      <td>6</td>\n",
       "    </tr>\n",
       "    <tr>\n",
       "      <th>4</th>\n",
       "      <td>0</td>\n",
       "      <td>0</td>\n",
       "      <td>0</td>\n",
       "      <td>0</td>\n",
       "      <td>7</td>\n",
       "      <td>11</td>\n",
       "      <td>7</td>\n",
       "      <td>6</td>\n",
       "    </tr>\n",
       "    <tr>\n",
       "      <th>...</th>\n",
       "      <td>...</td>\n",
       "      <td>...</td>\n",
       "      <td>...</td>\n",
       "      <td>...</td>\n",
       "      <td>...</td>\n",
       "      <td>...</td>\n",
       "      <td>...</td>\n",
       "      <td>...</td>\n",
       "    </tr>\n",
       "    <tr>\n",
       "      <th>649</th>\n",
       "      <td>24</td>\n",
       "      <td>39</td>\n",
       "      <td>0</td>\n",
       "      <td>17</td>\n",
       "      <td>43</td>\n",
       "      <td>63</td>\n",
       "      <td>63</td>\n",
       "      <td>49</td>\n",
       "    </tr>\n",
       "    <tr>\n",
       "      <th>650</th>\n",
       "      <td>12</td>\n",
       "      <td>14</td>\n",
       "      <td>0</td>\n",
       "      <td>6</td>\n",
       "      <td>15</td>\n",
       "      <td>28</td>\n",
       "      <td>28</td>\n",
       "      <td>20</td>\n",
       "    </tr>\n",
       "    <tr>\n",
       "      <th>4019</th>\n",
       "      <td>0</td>\n",
       "      <td>2</td>\n",
       "      <td>1</td>\n",
       "      <td>0</td>\n",
       "      <td>0</td>\n",
       "      <td>0</td>\n",
       "      <td>0</td>\n",
       "      <td>0</td>\n",
       "    </tr>\n",
       "    <tr>\n",
       "      <th>18739</th>\n",
       "      <td>0</td>\n",
       "      <td>0</td>\n",
       "      <td>0</td>\n",
       "      <td>0</td>\n",
       "      <td>7</td>\n",
       "      <td>11</td>\n",
       "      <td>7</td>\n",
       "      <td>7</td>\n",
       "    </tr>\n",
       "    <tr>\n",
       "      <th>18831</th>\n",
       "      <td>4</td>\n",
       "      <td>4</td>\n",
       "      <td>4</td>\n",
       "      <td>4</td>\n",
       "      <td>0</td>\n",
       "      <td>5</td>\n",
       "      <td>3</td>\n",
       "      <td>3</td>\n",
       "    </tr>\n",
       "  </tbody>\n",
       "</table>\n",
       "<p>653 rows × 8 columns</p>\n",
       "</div>"
      ],
      "text/plain": [
       "       Temporal Dark Patterns Present  Monetary Dark Patterns Present  \\\n",
       "0                                   0                               0   \n",
       "1                                   0                               0   \n",
       "2                                   0                               0   \n",
       "3                                   0                               0   \n",
       "4                                   0                               0   \n",
       "...                               ...                             ...   \n",
       "649                                24                              39   \n",
       "650                                12                              14   \n",
       "4019                                0                               2   \n",
       "18739                               0                               0   \n",
       "18831                               4                               4   \n",
       "\n",
       "       Social Dark Patterns Present  Psychological Dark Patterns Present  \\\n",
       "0                                 0                                    0   \n",
       "1                                 0                                    0   \n",
       "2                                 0                                    0   \n",
       "3                                 0                                    0   \n",
       "4                                 0                                    0   \n",
       "...                             ...                                  ...   \n",
       "649                               0                                   17   \n",
       "650                               0                                    6   \n",
       "4019                              1                                    0   \n",
       "18739                             0                                    0   \n",
       "18831                             4                                    4   \n",
       "\n",
       "       Temporal Dark Patterns Absence  Monetary Dark Patterns Absence  \\\n",
       "0                                  21                              33   \n",
       "1                                  14                              22   \n",
       "2                                  14                              22   \n",
       "3                                   7                              11   \n",
       "4                                   7                              11   \n",
       "...                               ...                             ...   \n",
       "649                                43                              63   \n",
       "650                                15                              28   \n",
       "4019                                0                               0   \n",
       "18739                               7                              11   \n",
       "18831                               0                               5   \n",
       "\n",
       "       Social Dark Patterns Absence  Psychological Dark Patterns Absence  \n",
       "0                                21                                   21  \n",
       "1                                14                                   14  \n",
       "2                                14                                   11  \n",
       "3                                 7                                    6  \n",
       "4                                 7                                    6  \n",
       "...                             ...                                  ...  \n",
       "649                              63                                   49  \n",
       "650                              28                                   20  \n",
       "4019                              0                                    0  \n",
       "18739                             7                                    7  \n",
       "18831                             3                                    3  \n",
       "\n",
       "[653 rows x 8 columns]"
      ]
     },
     "execution_count": 9,
     "metadata": {},
     "output_type": "execute_result"
    }
   ],
   "source": [
    "dark_patterns_df.drop(['Temporal Dark Patterns', 'Monetary Dark Patterns', \n",
    "                       'Social Dark Patterns', 'Psychological Dark Patterns'], axis=1)"
   ]
  },
  {
   "cell_type": "code",
   "execution_count": 10,
   "id": "256a49ce",
   "metadata": {},
   "outputs": [
    {
     "name": "stdout",
     "output_type": "stream",
     "text": [
      "Anzahl der entfernten Zeilen: 26142\n"
     ]
    }
   ],
   "source": [
    "removed_rows = len(df) - len(dark_patterns_df)\n",
    "print(f\"Anzahl der entfernten Zeilen: {removed_rows}\")"
   ]
  },
  {
   "cell_type": "code",
   "execution_count": 11,
   "id": "4495570c",
   "metadata": {},
   "outputs": [],
   "source": [
    "dark_patterns_df.to_csv('./h_dark_patterns.csv')"
   ]
  },
  {
   "cell_type": "code",
   "execution_count": 46,
   "id": "c8013014",
   "metadata": {},
   "outputs": [
    {
     "data": {
      "image/png": "[encoded data removed]",
      "text/plain": [
       "<Figure size 432x288 with 1 Axes>"
      ]
     },
     "metadata": {
      "needs_background": "light"
     },
     "output_type": "display_data"
    }
   ],
   "source": [
    "dark_patterns_df[['Temporal Dark Patterns Present', 'Monetary Dark Patterns Present', 'Social Dark Patterns Present', 'Psychological Dark Patterns Present']].sum().plot(kind='bar', rot=45, color='blue', ylim=(0,30000))\n",
    "ax = plt.gca()\n",
    "for p in ax.patches:\n",
    "    ax.text(p.get_x() + p.get_width() / 2., p.get_height(), f\"{p.get_height()}\", ha='center', va='bottom')\n",
    "\n",
    "plt.savefig('BarHealthyGamesPresent.pdf', format='pdf',bbox_inches='tight')\n"
   ]
  },
  {
   "cell_type": "code",
   "execution_count": 33,
   "id": "fffd766d",
   "metadata": {},
   "outputs": [
    {
     "data": {
      "image/png": "[encoded data removed]",
      "text/plain": [
       "<Figure size 432x288 with 1 Axes>"
      ]
     },
     "metadata": {
      "needs_background": "light"
     },
     "output_type": "display_data"
    }
   ],
   "source": [
    "category_sums = dark_patterns_df[['Temporal Dark Patterns Present', 'Monetary Dark Patterns Present', 'Social Dark Patterns Present', 'Psychological Dark Patterns Present']].sum()\n",
    "\n",
    "fig, ax = plt.subplots()\n",
    "\n",
    "patterns = ['Temporal', 'Monetary', 'Social', 'Psychological']\n",
    "colors = ['red', 'blue', 'green', 'purple']\n",
    "bottom = np.zeros(len(patterns))\n",
    "\n",
    "pattern_values = []\n",
    "for pattern in patterns:\n",
    "    pattern_values.append(dark_patterns_df[f'{pattern} Dark Patterns Present'].sum())\n",
    "\n",
    "for i, pattern in enumerate(patterns):\n",
    "    ax.bar(patterns, pattern_values[i], bottom=bottom, color=colors[i], label=f'{pattern} Dark Patterns')\n",
    "    bottom += pattern_values[i]\n",
    "\n",
    "ax.set_ylabel('Anzahl der Dark Patterns')\n",
    "ax.set_title('Anzahl der Dark Patterns in Healthy Games')\n",
    "ax.legend()\n",
    "\n",
    "plt.show()"
   ]
  },
  {
   "cell_type": "code",
   "execution_count": 19,
   "id": "91fea233",
   "metadata": {},
   "outputs": [
    {
     "data": {
      "text/plain": [
       "<AxesSubplot:ylabel='Density'>"
      ]
     },
     "execution_count": 19,
     "metadata": {},
     "output_type": "execute_result"
    },
    {
     "data": {
      "image/png": "[encoded data removed]",
      "text/plain": [
       "<Figure size 432x288 with 1 Axes>"
      ]
     },
     "metadata": {
      "needs_background": "light"
     },
     "output_type": "display_data"
    }
   ],
   "source": [
    "sum_df = dark_patterns_df[['Temporal Dark Patterns Present', 'Monetary Dark Patterns Present', \n",
    "                           'Social Dark Patterns Present', 'Psychological Dark Patterns Present']].sum()\n",
    "\n",
    "sns.kdeplot(sum_df, multiple='stack', color='r')"
   ]
  },
  {
   "cell_type": "code",
   "execution_count": 45,
   "id": "9a5c0ee8",
   "metadata": {},
   "outputs": [
    {
     "data": {
      "image/png": "[encoded data removed]",
      "text/plain": [
       "<Figure size 432x288 with 1 Axes>"
      ]
     },
     "metadata": {
      "needs_background": "light"
     },
     "output_type": "display_data"
    }
   ],
   "source": [
    "dark_patterns_df[['Temporal Dark Patterns Absence', 'Monetary Dark Patterns Absence', 'Social Dark Patterns Absence', 'Psychological Dark Patterns Absence']].sum().plot(kind='bar', rot=45,color='blue', ylim=(0,40000))\n",
    "ax = plt.gca()\n",
    "for p in ax.patches:\n",
    "    ax.text(p.get_x() + p.get_width() / 2., p.get_height(), f\"{p.get_height()}\", ha='center', va='bottom')\n",
    "\n",
    "plt.savefig('BarHealthyGamesAbsence.pdf', format='pdf',bbox_inches='tight')"
   ]
  },
  {
   "cell_type": "code",
   "execution_count": 22,
   "id": "9357dce1",
   "metadata": {},
   "outputs": [
    {
     "data": {
      "text/plain": [
       "<AxesSubplot:ylabel='Density'>"
      ]
     },
     "execution_count": 22,
     "metadata": {},
     "output_type": "execute_result"
    },
    {
     "data": {
      "image/png": "[encoded data removed]",
      "text/plain": [
       "<Figure size 432x288 with 1 Axes>"
      ]
     },
     "metadata": {
      "needs_background": "light"
     },
     "output_type": "display_data"
    }
   ],
   "source": [
    "sum_df = dark_patterns_df[['Temporal Dark Patterns Absence', 'Monetary Dark Patterns Absence', 'Social Dark Patterns Absence', 'Psychological Dark Patterns Absence']].sum()\n",
    "\n",
    "sns.kdeplot(sum_df, multiple='stack')"
   ]
  },
  {
   "cell_type": "code",
   "execution_count": 23,
   "id": "a78d548e",
   "metadata": {},
   "outputs": [
    {
     "data": {
      "text/plain": [
       "([0, 1, 2, 3],\n",
       " [Text(0, 0, ''), Text(0, 0, ''), Text(0, 0, ''), Text(0, 0, '')])"
      ]
     },
     "execution_count": 23,
     "metadata": {},
     "output_type": "execute_result"
    },
    {
     "data": {
      "image/png": "[encoded data removed]",
      "text/plain": [
       "<Figure size 720x576 with 1 Axes>"
      ]
     },
     "metadata": {
      "needs_background": "light"
     },
     "output_type": "display_data"
    }
   ],
   "source": [
    "summed = dark_patterns_df[['Temporal Dark Patterns Present', 'Monetary Dark Patterns Present', 'Social Dark Patterns Present', 'Psychological Dark Patterns Present']].sum()\n",
    "\n",
    "data = pd.DataFrame(summed).reset_index()\n",
    "\n",
    "fig, ax = plt.subplots(figsize=(10,8))\n",
    "sns.histplot(x='index', y=0, data=data, ax=ax, edgecolor='white')\n",
    "plt.xlabel('Type')\n",
    "plt.xticks(rotation=45)"
   ]
  },
  {
   "cell_type": "code",
   "execution_count": 24,
   "id": "e7f46ef3",
   "metadata": {},
   "outputs": [
    {
     "data": {
      "text/plain": [
       "<AxesSubplot:xlabel='None-index'>"
      ]
     },
     "execution_count": 24,
     "metadata": {},
     "output_type": "execute_result"
    },
    {
     "data": {
      "image/png": "[encoded data removed]",
      "text/plain": [
       "<Figure size 432x288 with 2 Axes>"
      ]
     },
     "metadata": {
      "needs_background": "light"
     },
     "output_type": "display_data"
    }
   ],
   "source": [
    "sns.heatmap(data.pivot(0, 'index').reset_index(), yticklabels=data['index'], xticklabels=['Sum'])"
   ]
  },
  {
   "cell_type": "code",
   "execution_count": 25,
   "id": "58f758c0",
   "metadata": {},
   "outputs": [
    {
     "data": {
      "text/html": [
       "<div>\n",
       "<style scoped>\n",
       "    .dataframe tbody tr th:only-of-type {\n",
       "        vertical-align: middle;\n",
       "    }\n",
       "\n",
       "    .dataframe tbody tr th {\n",
       "        vertical-align: top;\n",
       "    }\n",
       "\n",
       "    .dataframe thead th {\n",
       "        text-align: right;\n",
       "    }\n",
       "</style>\n",
       "<table border=\"1\" class=\"dataframe\">\n",
       "  <thead>\n",
       "    <tr style=\"text-align: right;\">\n",
       "      <th></th>\n",
       "      <th>title</th>\n",
       "      <th>Temporal Dark Patterns</th>\n",
       "      <th>Monetary Dark Patterns</th>\n",
       "      <th>Social Dark Patterns</th>\n",
       "      <th>Psychological Dark Patterns</th>\n",
       "      <th>Price</th>\n",
       "      <th>Ads</th>\n",
       "      <th>In App Purchases</th>\n",
       "    </tr>\n",
       "  </thead>\n",
       "  <tbody>\n",
       "    <tr>\n",
       "      <th>511</th>\n",
       "      <td>Among Us!</td>\n",
       "      <td>This game has 5 reported Temporal Dark Pattern...</td>\n",
       "      <td>This game has 5 reported Monetary Dark Pattern...</td>\n",
       "      <td>This game has 12 reported Social Dark Patterns...</td>\n",
       "      <td>This game has 7 reported Psychological Dark Pa...</td>\n",
       "      <td>Free</td>\n",
       "      <td>Yes</td>\n",
       "      <td>Yes</td>\n",
       "    </tr>\n",
       "    <tr>\n",
       "      <th>524</th>\n",
       "      <td>inbento</td>\n",
       "      <td>This game has 7 reported Temporal Dark Pattern...</td>\n",
       "      <td>This game has 11 reported Monetary Dark Patter...</td>\n",
       "      <td>This game has 7 reported Social Dark Patterns....</td>\n",
       "      <td>This game has 7 reported Psychological Dark Pa...</td>\n",
       "      <td>$1.49</td>\n",
       "      <td>No</td>\n",
       "      <td>No</td>\n",
       "    </tr>\n",
       "    <tr>\n",
       "      <th>545</th>\n",
       "      <td>Roblox</td>\n",
       "      <td>This game has 37 reported Temporal Dark Patter...</td>\n",
       "      <td>This game has 263 reported Monetary Dark Patte...</td>\n",
       "      <td>This game has 119 reported Social Dark Pattern...</td>\n",
       "      <td>This game has 132 reported Psychological Dark ...</td>\n",
       "      <td>Free</td>\n",
       "      <td>Yes</td>\n",
       "      <td>Yes</td>\n",
       "    </tr>\n",
       "    <tr>\n",
       "      <th>547</th>\n",
       "      <td>Super Mario Run</td>\n",
       "      <td>This game has 206 reported Temporal Dark Patte...</td>\n",
       "      <td>This game has 6 reported Monetary Dark Pattern...</td>\n",
       "      <td>This game has 92 reported Social Dark Patterns...</td>\n",
       "      <td>This game has 217 reported Psychological Dark ...</td>\n",
       "      <td>Free</td>\n",
       "      <td>No</td>\n",
       "      <td>Yes</td>\n",
       "    </tr>\n",
       "    <tr>\n",
       "      <th>548</th>\n",
       "      <td>I Love Hue</td>\n",
       "      <td>This game has 19 reported Temporal Dark Patter...</td>\n",
       "      <td>This game has 11 reported Monetary Dark Patter...</td>\n",
       "      <td>This game has 6 reported Social Dark Patterns....</td>\n",
       "      <td>This game has 16 reported Psychological Dark P...</td>\n",
       "      <td>Free</td>\n",
       "      <td>Unknown</td>\n",
       "      <td>Yes</td>\n",
       "    </tr>\n",
       "    <tr>\n",
       "      <th>564</th>\n",
       "      <td>Plague Inc.</td>\n",
       "      <td>This game has 98 reported Temporal Dark Patter...</td>\n",
       "      <td>This game has 123 reported Monetary Dark Patte...</td>\n",
       "      <td>This game has 104 reported Social Dark Pattern...</td>\n",
       "      <td>This game has 198 reported Psychological Dark ...</td>\n",
       "      <td>$0.99</td>\n",
       "      <td>Yes</td>\n",
       "      <td>Yes</td>\n",
       "    </tr>\n",
       "    <tr>\n",
       "      <th>572</th>\n",
       "      <td>My Singing Monsters DawnOfFire</td>\n",
       "      <td>This game has 4 reported Temporal Dark Pattern...</td>\n",
       "      <td>This game has 4 reported Monetary Dark Pattern...</td>\n",
       "      <td>This game has 2 reported Social Dark Patterns....</td>\n",
       "      <td>This game has 3 reported Psychological Dark Pa...</td>\n",
       "      <td>Free</td>\n",
       "      <td>Yes</td>\n",
       "      <td>Yes</td>\n",
       "    </tr>\n",
       "    <tr>\n",
       "      <th>581</th>\n",
       "      <td>Crossy Road</td>\n",
       "      <td>This game has 11 reported Temporal Dark Patter...</td>\n",
       "      <td>This game has 3 reported Monetary Dark Pattern...</td>\n",
       "      <td>This game has 3 reported Social Dark Patterns....</td>\n",
       "      <td>This game has 12 reported Psychological Dark P...</td>\n",
       "      <td>Free</td>\n",
       "      <td>Yes</td>\n",
       "      <td>Yes</td>\n",
       "    </tr>\n",
       "    <tr>\n",
       "      <th>582</th>\n",
       "      <td>Minecraft</td>\n",
       "      <td>This game has 161 reported Temporal Dark Patte...</td>\n",
       "      <td>This game has 197 reported Monetary Dark Patte...</td>\n",
       "      <td>This game has 40 reported Social Dark Patterns...</td>\n",
       "      <td>This game has 200 reported Psychological Dark ...</td>\n",
       "      <td>$6.99</td>\n",
       "      <td>No</td>\n",
       "      <td>Yes</td>\n",
       "    </tr>\n",
       "    <tr>\n",
       "      <th>587</th>\n",
       "      <td>Bloons TD 6</td>\n",
       "      <td>This game has 18 reported Temporal Dark Patter...</td>\n",
       "      <td>This game has 44 reported Monetary Dark Patter...</td>\n",
       "      <td>This game has 20 reported Social Dark Patterns...</td>\n",
       "      <td>This game has 37 reported Psychological Dark P...</td>\n",
       "      <td>$6.99</td>\n",
       "      <td>No</td>\n",
       "      <td>Yes</td>\n",
       "    </tr>\n",
       "    <tr>\n",
       "      <th>590</th>\n",
       "      <td>Rocket League Sideswipe</td>\n",
       "      <td>This game has 3 reported Temporal Dark Pattern...</td>\n",
       "      <td>This game has 5 reported Monetary Dark Pattern...</td>\n",
       "      <td>This game has 7 reported Social Dark Patterns....</td>\n",
       "      <td>This game has 13 reported Psychological Dark P...</td>\n",
       "      <td>Free</td>\n",
       "      <td>No</td>\n",
       "      <td>No</td>\n",
       "    </tr>\n",
       "    <tr>\n",
       "      <th>607</th>\n",
       "      <td>D4DJ Groovy Mix</td>\n",
       "      <td>This game has 8 reported Temporal Dark Pattern...</td>\n",
       "      <td>This game has 16 reported Monetary Dark Patter...</td>\n",
       "      <td>This game has 4 reported Social Dark Patterns....</td>\n",
       "      <td>This game has 11 reported Psychological Dark P...</td>\n",
       "      <td>Free</td>\n",
       "      <td>Unknown</td>\n",
       "      <td>Yes</td>\n",
       "    </tr>\n",
       "    <tr>\n",
       "      <th>614</th>\n",
       "      <td>Nonogram.com - Griddlers Game</td>\n",
       "      <td>This game has 15 reported Temporal Dark Patter...</td>\n",
       "      <td>This game has 2 reported Monetary Dark Pattern...</td>\n",
       "      <td>This game has 4 reported Social Dark Patterns....</td>\n",
       "      <td>This game has 15 reported Psychological Dark P...</td>\n",
       "      <td>Free</td>\n",
       "      <td>Yes</td>\n",
       "      <td>Unknown</td>\n",
       "    </tr>\n",
       "    <tr>\n",
       "      <th>622</th>\n",
       "      <td>Teamfight Tactics: League of Legends Strategy ...</td>\n",
       "      <td>This game has 3 reported Temporal Dark Pattern...</td>\n",
       "      <td>This game has 10 reported Monetary Dark Patter...</td>\n",
       "      <td>This game has 8 reported Social Dark Patterns....</td>\n",
       "      <td>This game has 9 reported Psychological Dark Pa...</td>\n",
       "      <td>Free</td>\n",
       "      <td>No</td>\n",
       "      <td>Yes</td>\n",
       "    </tr>\n",
       "    <tr>\n",
       "      <th>629</th>\n",
       "      <td>Arcaea</td>\n",
       "      <td>This game has 14 reported Temporal Dark Patter...</td>\n",
       "      <td>This game has 36 reported Monetary Dark Patter...</td>\n",
       "      <td>This game has 14 reported Social Dark Patterns...</td>\n",
       "      <td>This game has 16 reported Psychological Dark P...</td>\n",
       "      <td>Free</td>\n",
       "      <td>Unknown</td>\n",
       "      <td>Yes</td>\n",
       "    </tr>\n",
       "    <tr>\n",
       "      <th>18831</th>\n",
       "      <td>Infinite Lagrange</td>\n",
       "      <td>This game has 4 reported Temporal Dark Pattern...</td>\n",
       "      <td>This game has 4 reported Monetary Dark Pattern...</td>\n",
       "      <td>This game has 4 reported Social Dark Patterns....</td>\n",
       "      <td>This game has 4 reported Psychological Dark Pa...</td>\n",
       "      <td>Free</td>\n",
       "      <td>No</td>\n",
       "      <td>Yes</td>\n",
       "    </tr>\n",
       "  </tbody>\n",
       "</table>\n",
       "</div>"
      ],
      "text/plain": [
       "                                                   title  \\\n",
       "511                                            Among Us!   \n",
       "524                                              inbento   \n",
       "545                                               Roblox   \n",
       "547                                      Super Mario Run   \n",
       "548                                           I Love Hue   \n",
       "564                                          Plague Inc.   \n",
       "572                       My Singing Monsters DawnOfFire   \n",
       "581                                          Crossy Road   \n",
       "582                                            Minecraft   \n",
       "587                                          Bloons TD 6   \n",
       "590                              Rocket League Sideswipe   \n",
       "607                                      D4DJ Groovy Mix   \n",
       "614                        Nonogram.com - Griddlers Game   \n",
       "622    Teamfight Tactics: League of Legends Strategy ...   \n",
       "629                                               Arcaea   \n",
       "18831                                  Infinite Lagrange   \n",
       "\n",
       "                                  Temporal Dark Patterns  \\\n",
       "511    This game has 5 reported Temporal Dark Pattern...   \n",
       "524    This game has 7 reported Temporal Dark Pattern...   \n",
       "545    This game has 37 reported Temporal Dark Patter...   \n",
       "547    This game has 206 reported Temporal Dark Patte...   \n",
       "548    This game has 19 reported Temporal Dark Patter...   \n",
       "564    This game has 98 reported Temporal Dark Patter...   \n",
       "572    This game has 4 reported Temporal Dark Pattern...   \n",
       "581    This game has 11 reported Temporal Dark Patter...   \n",
       "582    This game has 161 reported Temporal Dark Patte...   \n",
       "587    This game has 18 reported Temporal Dark Patter...   \n",
       "590    This game has 3 reported Temporal Dark Pattern...   \n",
       "607    This game has 8 reported Temporal Dark Pattern...   \n",
       "614    This game has 15 reported Temporal Dark Patter...   \n",
       "622    This game has 3 reported Temporal Dark Pattern...   \n",
       "629    This game has 14 reported Temporal Dark Patter...   \n",
       "18831  This game has 4 reported Temporal Dark Pattern...   \n",
       "\n",
       "                                  Monetary Dark Patterns  \\\n",
       "511    This game has 5 reported Monetary Dark Pattern...   \n",
       "524    This game has 11 reported Monetary Dark Patter...   \n",
       "545    This game has 263 reported Monetary Dark Patte...   \n",
       "547    This game has 6 reported Monetary Dark Pattern...   \n",
       "548    This game has 11 reported Monetary Dark Patter...   \n",
       "564    This game has 123 reported Monetary Dark Patte...   \n",
       "572    This game has 4 reported Monetary Dark Pattern...   \n",
       "581    This game has 3 reported Monetary Dark Pattern...   \n",
       "582    This game has 197 reported Monetary Dark Patte...   \n",
       "587    This game has 44 reported Monetary Dark Patter...   \n",
       "590    This game has 5 reported Monetary Dark Pattern...   \n",
       "607    This game has 16 reported Monetary Dark Patter...   \n",
       "614    This game has 2 reported Monetary Dark Pattern...   \n",
       "622    This game has 10 reported Monetary Dark Patter...   \n",
       "629    This game has 36 reported Monetary Dark Patter...   \n",
       "18831  This game has 4 reported Monetary Dark Pattern...   \n",
       "\n",
       "                                    Social Dark Patterns  \\\n",
       "511    This game has 12 reported Social Dark Patterns...   \n",
       "524    This game has 7 reported Social Dark Patterns....   \n",
       "545    This game has 119 reported Social Dark Pattern...   \n",
       "547    This game has 92 reported Social Dark Patterns...   \n",
       "548    This game has 6 reported Social Dark Patterns....   \n",
       "564    This game has 104 reported Social Dark Pattern...   \n",
       "572    This game has 2 reported Social Dark Patterns....   \n",
       "581    This game has 3 reported Social Dark Patterns....   \n",
       "582    This game has 40 reported Social Dark Patterns...   \n",
       "587    This game has 20 reported Social Dark Patterns...   \n",
       "590    This game has 7 reported Social Dark Patterns....   \n",
       "607    This game has 4 reported Social Dark Patterns....   \n",
       "614    This game has 4 reported Social Dark Patterns....   \n",
       "622    This game has 8 reported Social Dark Patterns....   \n",
       "629    This game has 14 reported Social Dark Patterns...   \n",
       "18831  This game has 4 reported Social Dark Patterns....   \n",
       "\n",
       "                             Psychological Dark Patterns  Price      Ads  \\\n",
       "511    This game has 7 reported Psychological Dark Pa...   Free      Yes   \n",
       "524    This game has 7 reported Psychological Dark Pa...  $1.49       No   \n",
       "545    This game has 132 reported Psychological Dark ...   Free      Yes   \n",
       "547    This game has 217 reported Psychological Dark ...   Free       No   \n",
       "548    This game has 16 reported Psychological Dark P...   Free  Unknown   \n",
       "564    This game has 198 reported Psychological Dark ...  $0.99      Yes   \n",
       "572    This game has 3 reported Psychological Dark Pa...   Free      Yes   \n",
       "581    This game has 12 reported Psychological Dark P...   Free      Yes   \n",
       "582    This game has 200 reported Psychological Dark ...  $6.99       No   \n",
       "587    This game has 37 reported Psychological Dark P...  $6.99       No   \n",
       "590    This game has 13 reported Psychological Dark P...   Free       No   \n",
       "607    This game has 11 reported Psychological Dark P...   Free  Unknown   \n",
       "614    This game has 15 reported Psychological Dark P...   Free      Yes   \n",
       "622    This game has 9 reported Psychological Dark Pa...   Free       No   \n",
       "629    This game has 16 reported Psychological Dark P...   Free  Unknown   \n",
       "18831  This game has 4 reported Psychological Dark Pa...   Free       No   \n",
       "\n",
       "      In App Purchases  \n",
       "511                Yes  \n",
       "524                 No  \n",
       "545                Yes  \n",
       "547                Yes  \n",
       "548                Yes  \n",
       "564                Yes  \n",
       "572                Yes  \n",
       "581                Yes  \n",
       "582                Yes  \n",
       "587                Yes  \n",
       "590                 No  \n",
       "607                Yes  \n",
       "614            Unknown  \n",
       "622                Yes  \n",
       "629                Yes  \n",
       "18831              Yes  "
      ]
     },
     "execution_count": 25,
     "metadata": {},
     "output_type": "execute_result"
    }
   ],
   "source": [
    "df = df.dropna()\n",
    "\n",
    "df[(df['Temporal Dark Patterns'].apply(lambda x: int(re.search(r'\\d+', x).group())) > 1) \n",
    "   & (df['Monetary Dark Patterns'].apply(lambda x: int(re.search(r'\\d+', x).group())) > 1)\n",
    "      & (df['Social Dark Patterns'].apply(lambda x: int(re.search(r'\\d+', x).group())) > 1)\n",
    "          & (df['Psychological Dark Patterns'].apply(lambda x: int(re.search(r'\\d+', x).group())) > 1)]"
   ]
  },
  {
   "cell_type": "code",
   "execution_count": 26,
   "id": "2c09da44",
   "metadata": {},
   "outputs": [],
   "source": [
    "df['Price'] = df['Price'].apply(lambda x: 'Not Free' if (x != 'Free') else 'Free')"
   ]
  },
  {
   "cell_type": "code",
   "execution_count": 44,
   "id": "bda92aaa",
   "metadata": {},
   "outputs": [
    {
     "data": {
      "image/png": "[encoded data removed]",
      "text/plain": [
       "<Figure size 432x288 with 1 Axes>"
      ]
     },
     "metadata": {
      "needs_background": "light"
     },
     "output_type": "display_data"
    }
   ],
   "source": [
    "pd.value_counts(df[\"Price\"]).plot.bar(rot=45, color='blue', ylim=(0,900))\n",
    "\n",
    "plt.savefig('BarHealthyPrice.pdf', format='pdf',bbox_inches='tight')"
   ]
  },
  {
   "cell_type": "code",
   "execution_count": 42,
   "id": "0ce01b46",
   "metadata": {},
   "outputs": [
    {
     "data": {
      "image/png": "[encoded data removed]",
      "text/plain": [
       "<Figure size 432x288 with 1 Axes>"
      ]
     },
     "metadata": {
      "needs_background": "light"
     },
     "output_type": "display_data"
    }
   ],
   "source": [
    "df['In App Purchases'] = df['In App Purchases'].fillna('Unknown')\n",
    "pd.value_counts(df[\"In App Purchases\"]).plot.bar(rot=45, color='blue', ylim=(0,900))\n",
    "\n",
    "plt.savefig('BarHealthyGamesinAppPurchases.pdf', format='pdf',bbox_inches='tight')"
   ]
  },
  {
   "cell_type": "code",
   "execution_count": 43,
   "id": "256bc5bc",
   "metadata": {},
   "outputs": [
    {
     "data": {
      "image/png": "[encoded data removed]",
      "text/plain": [
       "<Figure size 432x288 with 1 Axes>"
      ]
     },
     "metadata": {
      "needs_background": "light"
     },
     "output_type": "display_data"
    }
   ],
   "source": [
    "df['Ads'] = df['Ads'].fillna('Unknown')\n",
    "pd.value_counts(df[\"Ads\"]).plot.bar(rot=45, color='blue', ylim=(0,500))\n",
    "\n",
    "plt.savefig('BarHealthyGamesAds.pdf', format='pdf',bbox_inches='tight')"
   ]
  },
  {
   "cell_type": "code",
   "execution_count": 32,
   "id": "08076c92",
   "metadata": {},
   "outputs": [
    {
     "data": {
      "text/plain": [
       "(652, 8)"
      ]
     },
     "execution_count": 32,
     "metadata": {},
     "output_type": "execute_result"
    }
   ],
   "source": [
    "df.shape"
   ]
  },
  {
   "cell_type": "code",
   "execution_count": null,
   "id": "24d51d30",
   "metadata": {
    "scrolled": true
   },
   "outputs": [],
   "source": []
  },
  {
   "cell_type": "code",
   "execution_count": null,
   "id": "033e0435",
   "metadata": {},
   "outputs": [],
   "source": []
  }
 ],
 "metadata": {
  "kernelspec": {
   "display_name": "Python 3 (ipykernel)",
   "language": "python",
   "name": "python3"
  },
  "language_info": {
   "codemirror_mode": {
    "name": "ipython",
    "version": 3
   },
   "file_extension": ".py",
   "mimetype": "text/x-python",
   "name": "python",
   "nbconvert_exporter": "python",
   "pygments_lexer": "ipython3",
   "version": "3.9.7"
  }
 },
 "nbformat": 4,
 "nbformat_minor": 5
}
