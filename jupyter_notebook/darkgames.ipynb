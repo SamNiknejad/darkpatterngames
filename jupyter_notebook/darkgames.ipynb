{
 "cells": [
  {
   "cell_type": "code",
   "execution_count": 1,
   "id": "83df75f3",
   "metadata": {},
   "outputs": [],
   "source": [
    "import re\n",
    "import json\n",
    "import pandas as pd\n",
    "import numpy as np\n",
    "\n",
    "import seaborn as sns\n",
    "from matplotlib import pyplot as plt\n",
    "\n",
    "import warnings\n",
    "warnings.filterwarnings('ignore')"
   ]
  },
  {
   "cell_type": "code",
   "execution_count": 2,
   "id": "df49caff",
   "metadata": {},
   "outputs": [],
   "source": [
    "f = open('darkgames/rating.json')\n",
    "\n",
    "js = json.load(f)"
   ]
  },
  {
   "cell_type": "code",
   "execution_count": 3,
   "id": "f1f2c7d4",
   "metadata": {},
   "outputs": [],
   "source": [
    "nn_jj = []\n",
    "nd = {}\n",
    "\n",
    "for line in js:\n",
    "    if 'title' in line:\n",
    "        nd = {}\n",
    "        nn_jj.append(nd)\n",
    "        nd['title'] = line['title'][0].split(\"'\")[1]\n",
    "    elif 'reported' in line:\n",
    "        try:\n",
    "            nd[line['reported'][1]] = line['reported'][3]\n",
    "        except:\n",
    "            pass\n",
    "    elif 'price' in line:\n",
    "        nd['Price'] = line['price'][0].strip().split(':')[1].strip()\n",
    "        nd['Ads'] = line['price'][1].strip().split(':')[1].strip()\n",
    "        nd['In App Purchases'] = line['price'][2].strip().split(':')[1].strip()"
   ]
  },
  {
   "cell_type": "code",
   "execution_count": 4,
   "id": "de770d00",
   "metadata": {},
   "outputs": [
    {
     "name": "stdout",
     "output_type": "stream",
     "text": [
      "{'title': 'Jurassic Park™ Builder', 'Price': 'Free', 'Ads': 'Yes', 'In App Purchases': 'Yes'}\n"
     ]
    }
   ],
   "source": [
    "print(nn_jj[0])"
   ]
  },
  {
   "cell_type": "code",
   "execution_count": 5,
   "id": "33aeb030",
   "metadata": {},
   "outputs": [],
   "source": [
    "with open('drating_cleaned.json', 'w') as f:\n",
    "    json.dump(nn_jj, f)"
   ]
  },
  {
   "cell_type": "code",
   "execution_count": 6,
   "id": "d4a16ad0",
   "metadata": {},
   "outputs": [],
   "source": [
    "df = pd.read_json('drating_cleaned.json')"
   ]
  },
  {
   "cell_type": "code",
   "execution_count": 7,
   "id": "4b83bbac",
   "metadata": {},
   "outputs": [
    {
     "data": {
      "text/html": [
       "<div>\n",
       "<style scoped>\n",
       "    .dataframe tbody tr th:only-of-type {\n",
       "        vertical-align: middle;\n",
       "    }\n",
       "\n",
       "    .dataframe tbody tr th {\n",
       "        vertical-align: top;\n",
       "    }\n",
       "\n",
       "    .dataframe thead th {\n",
       "        text-align: right;\n",
       "    }\n",
       "</style>\n",
       "<table border=\"1\" class=\"dataframe\">\n",
       "  <thead>\n",
       "    <tr style=\"text-align: right;\">\n",
       "      <th></th>\n",
       "      <th>title</th>\n",
       "      <th>Price</th>\n",
       "      <th>Ads</th>\n",
       "      <th>In App Purchases</th>\n",
       "      <th>Temporal Dark Patterns</th>\n",
       "      <th>Monetary Dark Patterns</th>\n",
       "      <th>Social Dark Patterns</th>\n",
       "      <th>Psychological Dark Patterns</th>\n",
       "    </tr>\n",
       "  </thead>\n",
       "  <tbody>\n",
       "    <tr>\n",
       "      <th>0</th>\n",
       "      <td>Jurassic Park™ Builder</td>\n",
       "      <td>Free</td>\n",
       "      <td>Yes</td>\n",
       "      <td>Yes</td>\n",
       "      <td>NaN</td>\n",
       "      <td>NaN</td>\n",
       "      <td>NaN</td>\n",
       "      <td>NaN</td>\n",
       "    </tr>\n",
       "    <tr>\n",
       "      <th>1</th>\n",
       "      <td>Knife Hit</td>\n",
       "      <td>Free</td>\n",
       "      <td>Yes</td>\n",
       "      <td>Yes</td>\n",
       "      <td>This game has 7 reported Temporal Dark Pattern...</td>\n",
       "      <td>This game has 11 reported Monetary Dark Patter...</td>\n",
       "      <td>This game has 7 reported Social Dark Patterns....</td>\n",
       "      <td>This game has 7 reported Psychological Dark Pa...</td>\n",
       "    </tr>\n",
       "    <tr>\n",
       "      <th>2</th>\n",
       "      <td>Walking Dead: Road to Survival</td>\n",
       "      <td>Free</td>\n",
       "      <td>Yes</td>\n",
       "      <td>Yes</td>\n",
       "      <td>This game has 27 reported Temporal Dark Patter...</td>\n",
       "      <td>This game has 44 reported Monetary Dark Patter...</td>\n",
       "      <td>This game has 26 reported Social Dark Patterns...</td>\n",
       "      <td>This game has 28 reported Psychological Dark P...</td>\n",
       "    </tr>\n",
       "    <tr>\n",
       "      <th>3</th>\n",
       "      <td>Unison League</td>\n",
       "      <td>Free</td>\n",
       "      <td>Yes</td>\n",
       "      <td>Yes</td>\n",
       "      <td>This game has 12 reported Temporal Dark Patter...</td>\n",
       "      <td>This game has 19 reported Monetary Dark Patter...</td>\n",
       "      <td>This game has 11 reported Social Dark Patterns...</td>\n",
       "      <td>This game has 10 reported Psychological Dark P...</td>\n",
       "    </tr>\n",
       "    <tr>\n",
       "      <th>4</th>\n",
       "      <td>War and Peace: Build an Army in the Epic Civil...</td>\n",
       "      <td>Free</td>\n",
       "      <td>Yes</td>\n",
       "      <td>Yes</td>\n",
       "      <td>This game has 7 reported Temporal Dark Pattern...</td>\n",
       "      <td>This game has 8 reported Monetary Dark Pattern...</td>\n",
       "      <td>This game has 5 reported Social Dark Patterns....</td>\n",
       "      <td>This game has 4 reported Psychological Dark Pa...</td>\n",
       "    </tr>\n",
       "    <tr>\n",
       "      <th>...</th>\n",
       "      <td>...</td>\n",
       "      <td>...</td>\n",
       "      <td>...</td>\n",
       "      <td>...</td>\n",
       "      <td>...</td>\n",
       "      <td>...</td>\n",
       "      <td>...</td>\n",
       "      <td>...</td>\n",
       "    </tr>\n",
       "    <tr>\n",
       "      <th>26777</th>\n",
       "      <td>Sasaya</td>\n",
       "      <td>$0.99</td>\n",
       "      <td>No</td>\n",
       "      <td>No</td>\n",
       "      <td>NaN</td>\n",
       "      <td>NaN</td>\n",
       "      <td>NaN</td>\n",
       "      <td>NaN</td>\n",
       "    </tr>\n",
       "    <tr>\n",
       "      <th>26778</th>\n",
       "      <td>Perfect Ironing</td>\n",
       "      <td>Free</td>\n",
       "      <td>Yes</td>\n",
       "      <td>No</td>\n",
       "      <td>NaN</td>\n",
       "      <td>NaN</td>\n",
       "      <td>NaN</td>\n",
       "      <td>NaN</td>\n",
       "    </tr>\n",
       "    <tr>\n",
       "      <th>26779</th>\n",
       "      <td>R.B.I. Baseball 20</td>\n",
       "      <td>$3.99</td>\n",
       "      <td>No</td>\n",
       "      <td>No</td>\n",
       "      <td>NaN</td>\n",
       "      <td>NaN</td>\n",
       "      <td>NaN</td>\n",
       "      <td>NaN</td>\n",
       "    </tr>\n",
       "    <tr>\n",
       "      <th>26780</th>\n",
       "      <td>Colorzzle</td>\n",
       "      <td>$0.99</td>\n",
       "      <td>No</td>\n",
       "      <td>No</td>\n",
       "      <td>NaN</td>\n",
       "      <td>NaN</td>\n",
       "      <td>NaN</td>\n",
       "      <td>NaN</td>\n",
       "    </tr>\n",
       "    <tr>\n",
       "      <th>26781</th>\n",
       "      <td>Monster Girl Maker 2</td>\n",
       "      <td>Free</td>\n",
       "      <td>No</td>\n",
       "      <td>Yes</td>\n",
       "      <td>NaN</td>\n",
       "      <td>NaN</td>\n",
       "      <td>NaN</td>\n",
       "      <td>NaN</td>\n",
       "    </tr>\n",
       "  </tbody>\n",
       "</table>\n",
       "<p>26782 rows × 8 columns</p>\n",
       "</div>"
      ],
      "text/plain": [
       "                                                   title  Price  Ads  \\\n",
       "0                                 Jurassic Park™ Builder   Free  Yes   \n",
       "1                                              Knife Hit   Free  Yes   \n",
       "2                         Walking Dead: Road to Survival   Free  Yes   \n",
       "3                                          Unison League   Free  Yes   \n",
       "4      War and Peace: Build an Army in the Epic Civil...   Free  Yes   \n",
       "...                                                  ...    ...  ...   \n",
       "26777                                             Sasaya  $0.99   No   \n",
       "26778                                    Perfect Ironing   Free  Yes   \n",
       "26779                                 R.B.I. Baseball 20  $3.99   No   \n",
       "26780                                          Colorzzle  $0.99   No   \n",
       "26781                               Monster Girl Maker 2   Free   No   \n",
       "\n",
       "      In App Purchases                             Temporal Dark Patterns  \\\n",
       "0                  Yes                                                NaN   \n",
       "1                  Yes  This game has 7 reported Temporal Dark Pattern...   \n",
       "2                  Yes  This game has 27 reported Temporal Dark Patter...   \n",
       "3                  Yes  This game has 12 reported Temporal Dark Patter...   \n",
       "4                  Yes  This game has 7 reported Temporal Dark Pattern...   \n",
       "...                ...                                                ...   \n",
       "26777               No                                                NaN   \n",
       "26778               No                                                NaN   \n",
       "26779               No                                                NaN   \n",
       "26780               No                                                NaN   \n",
       "26781              Yes                                                NaN   \n",
       "\n",
       "                                  Monetary Dark Patterns  \\\n",
       "0                                                    NaN   \n",
       "1      This game has 11 reported Monetary Dark Patter...   \n",
       "2      This game has 44 reported Monetary Dark Patter...   \n",
       "3      This game has 19 reported Monetary Dark Patter...   \n",
       "4      This game has 8 reported Monetary Dark Pattern...   \n",
       "...                                                  ...   \n",
       "26777                                                NaN   \n",
       "26778                                                NaN   \n",
       "26779                                                NaN   \n",
       "26780                                                NaN   \n",
       "26781                                                NaN   \n",
       "\n",
       "                                    Social Dark Patterns  \\\n",
       "0                                                    NaN   \n",
       "1      This game has 7 reported Social Dark Patterns....   \n",
       "2      This game has 26 reported Social Dark Patterns...   \n",
       "3      This game has 11 reported Social Dark Patterns...   \n",
       "4      This game has 5 reported Social Dark Patterns....   \n",
       "...                                                  ...   \n",
       "26777                                                NaN   \n",
       "26778                                                NaN   \n",
       "26779                                                NaN   \n",
       "26780                                                NaN   \n",
       "26781                                                NaN   \n",
       "\n",
       "                             Psychological Dark Patterns  \n",
       "0                                                    NaN  \n",
       "1      This game has 7 reported Psychological Dark Pa...  \n",
       "2      This game has 28 reported Psychological Dark P...  \n",
       "3      This game has 10 reported Psychological Dark P...  \n",
       "4      This game has 4 reported Psychological Dark Pa...  \n",
       "...                                                  ...  \n",
       "26777                                                NaN  \n",
       "26778                                                NaN  \n",
       "26779                                                NaN  \n",
       "26780                                                NaN  \n",
       "26781                                                NaN  \n",
       "\n",
       "[26782 rows x 8 columns]"
      ]
     },
     "execution_count": 7,
     "metadata": {},
     "output_type": "execute_result"
    }
   ],
   "source": [
    "df"
   ]
  },
  {
   "cell_type": "code",
   "execution_count": 8,
   "id": "e1ec6d41",
   "metadata": {},
   "outputs": [],
   "source": [
    "dark_patterns_df = df[['Temporal Dark Patterns', 'Monetary Dark Patterns', \n",
    "                       'Social Dark Patterns', 'Psychological Dark Patterns']].dropna()"
   ]
  },
  {
   "cell_type": "code",
   "execution_count": 9,
   "id": "6e5a83ff",
   "metadata": {},
   "outputs": [],
   "source": [
    "dark_patterns_df['Temporal Dark Patterns Present'] = dark_patterns_df['Temporal Dark Patterns'].apply(lambda x: int(re.search(r'\\d+', x).group()))\n",
    "dark_patterns_df['Monetary Dark Patterns Present'] = dark_patterns_df['Monetary Dark Patterns'].apply(lambda x: int(re.search(r'\\d+', x).group()))\n",
    "dark_patterns_df['Social Dark Patterns Present'] = dark_patterns_df['Social Dark Patterns'].apply(lambda x: int(re.search(r'\\d+', x).group()))\n",
    "dark_patterns_df['Psychological Dark Patterns Present'] = dark_patterns_df['Psychological Dark Patterns'].apply(lambda x: int(re.search(r'\\d+', x).group()))\n",
    "\n",
    "dark_patterns_df['Temporal Dark Patterns Absence'] = dark_patterns_df['Temporal Dark Patterns'].apply(lambda x: int(re.search(r'\\d+', x.split('.')[1]).group()))\n",
    "dark_patterns_df['Monetary Dark Patterns Absence'] = dark_patterns_df['Monetary Dark Patterns'].apply(lambda x: int(re.search(r'\\d+', x.split('.')[1]).group()))\n",
    "dark_patterns_df['Social Dark Patterns Absence'] = dark_patterns_df['Social Dark Patterns'].apply(lambda x: int(re.search(r'\\d+', x.split('.')[1]).group()))\n",
    "dark_patterns_df['Psychological Dark Patterns Absence'] = dark_patterns_df['Psychological Dark Patterns'].apply(lambda x: int(re.search(r'\\d+', x.split('.')[1]).group()))"
   ]
  },
  {
   "cell_type": "code",
   "execution_count": 10,
   "id": "77cd5c80",
   "metadata": {},
   "outputs": [
    {
     "data": {
      "text/html": [
       "<div>\n",
       "<style scoped>\n",
       "    .dataframe tbody tr th:only-of-type {\n",
       "        vertical-align: middle;\n",
       "    }\n",
       "\n",
       "    .dataframe tbody tr th {\n",
       "        vertical-align: top;\n",
       "    }\n",
       "\n",
       "    .dataframe thead th {\n",
       "        text-align: right;\n",
       "    }\n",
       "</style>\n",
       "<table border=\"1\" class=\"dataframe\">\n",
       "  <thead>\n",
       "    <tr style=\"text-align: right;\">\n",
       "      <th></th>\n",
       "      <th>Temporal Dark Patterns Present</th>\n",
       "      <th>Monetary Dark Patterns Present</th>\n",
       "      <th>Social Dark Patterns Present</th>\n",
       "      <th>Psychological Dark Patterns Present</th>\n",
       "      <th>Temporal Dark Patterns Absence</th>\n",
       "      <th>Monetary Dark Patterns Absence</th>\n",
       "      <th>Social Dark Patterns Absence</th>\n",
       "      <th>Psychological Dark Patterns Absence</th>\n",
       "    </tr>\n",
       "  </thead>\n",
       "  <tbody>\n",
       "    <tr>\n",
       "      <th>1</th>\n",
       "      <td>7</td>\n",
       "      <td>11</td>\n",
       "      <td>7</td>\n",
       "      <td>7</td>\n",
       "      <td>0</td>\n",
       "      <td>0</td>\n",
       "      <td>0</td>\n",
       "      <td>0</td>\n",
       "    </tr>\n",
       "    <tr>\n",
       "      <th>2</th>\n",
       "      <td>27</td>\n",
       "      <td>44</td>\n",
       "      <td>26</td>\n",
       "      <td>28</td>\n",
       "      <td>1</td>\n",
       "      <td>0</td>\n",
       "      <td>2</td>\n",
       "      <td>0</td>\n",
       "    </tr>\n",
       "    <tr>\n",
       "      <th>3</th>\n",
       "      <td>12</td>\n",
       "      <td>19</td>\n",
       "      <td>11</td>\n",
       "      <td>10</td>\n",
       "      <td>0</td>\n",
       "      <td>0</td>\n",
       "      <td>1</td>\n",
       "      <td>0</td>\n",
       "    </tr>\n",
       "    <tr>\n",
       "      <th>4</th>\n",
       "      <td>7</td>\n",
       "      <td>8</td>\n",
       "      <td>5</td>\n",
       "      <td>4</td>\n",
       "      <td>0</td>\n",
       "      <td>0</td>\n",
       "      <td>0</td>\n",
       "      <td>0</td>\n",
       "    </tr>\n",
       "    <tr>\n",
       "      <th>5</th>\n",
       "      <td>22</td>\n",
       "      <td>33</td>\n",
       "      <td>21</td>\n",
       "      <td>21</td>\n",
       "      <td>0</td>\n",
       "      <td>0</td>\n",
       "      <td>0</td>\n",
       "      <td>0</td>\n",
       "    </tr>\n",
       "    <tr>\n",
       "      <th>...</th>\n",
       "      <td>...</td>\n",
       "      <td>...</td>\n",
       "      <td>...</td>\n",
       "      <td>...</td>\n",
       "      <td>...</td>\n",
       "      <td>...</td>\n",
       "      <td>...</td>\n",
       "      <td>...</td>\n",
       "    </tr>\n",
       "    <tr>\n",
       "      <th>840</th>\n",
       "      <td>11</td>\n",
       "      <td>3</td>\n",
       "      <td>0</td>\n",
       "      <td>7</td>\n",
       "      <td>7</td>\n",
       "      <td>21</td>\n",
       "      <td>14</td>\n",
       "      <td>8</td>\n",
       "    </tr>\n",
       "    <tr>\n",
       "      <th>841</th>\n",
       "      <td>45</td>\n",
       "      <td>40</td>\n",
       "      <td>3</td>\n",
       "      <td>35</td>\n",
       "      <td>53</td>\n",
       "      <td>108</td>\n",
       "      <td>94</td>\n",
       "      <td>57</td>\n",
       "    </tr>\n",
       "    <tr>\n",
       "      <th>8805</th>\n",
       "      <td>4</td>\n",
       "      <td>4</td>\n",
       "      <td>4</td>\n",
       "      <td>4</td>\n",
       "      <td>0</td>\n",
       "      <td>5</td>\n",
       "      <td>3</td>\n",
       "      <td>3</td>\n",
       "    </tr>\n",
       "    <tr>\n",
       "      <th>8896</th>\n",
       "      <td>0</td>\n",
       "      <td>0</td>\n",
       "      <td>0</td>\n",
       "      <td>0</td>\n",
       "      <td>7</td>\n",
       "      <td>11</td>\n",
       "      <td>7</td>\n",
       "      <td>7</td>\n",
       "    </tr>\n",
       "    <tr>\n",
       "      <th>23621</th>\n",
       "      <td>0</td>\n",
       "      <td>2</td>\n",
       "      <td>1</td>\n",
       "      <td>0</td>\n",
       "      <td>0</td>\n",
       "      <td>0</td>\n",
       "      <td>0</td>\n",
       "      <td>0</td>\n",
       "    </tr>\n",
       "  </tbody>\n",
       "</table>\n",
       "<p>843 rows × 8 columns</p>\n",
       "</div>"
      ],
      "text/plain": [
       "       Temporal Dark Patterns Present  Monetary Dark Patterns Present  \\\n",
       "1                                   7                              11   \n",
       "2                                  27                              44   \n",
       "3                                  12                              19   \n",
       "4                                   7                               8   \n",
       "5                                  22                              33   \n",
       "...                               ...                             ...   \n",
       "840                                11                               3   \n",
       "841                                45                              40   \n",
       "8805                                4                               4   \n",
       "8896                                0                               0   \n",
       "23621                               0                               2   \n",
       "\n",
       "       Social Dark Patterns Present  Psychological Dark Patterns Present  \\\n",
       "1                                 7                                    7   \n",
       "2                                26                                   28   \n",
       "3                                11                                   10   \n",
       "4                                 5                                    4   \n",
       "5                                21                                   21   \n",
       "...                             ...                                  ...   \n",
       "840                               0                                    7   \n",
       "841                               3                                   35   \n",
       "8805                              4                                    4   \n",
       "8896                              0                                    0   \n",
       "23621                             1                                    0   \n",
       "\n",
       "       Temporal Dark Patterns Absence  Monetary Dark Patterns Absence  \\\n",
       "1                                   0                               0   \n",
       "2                                   1                               0   \n",
       "3                                   0                               0   \n",
       "4                                   0                               0   \n",
       "5                                   0                               0   \n",
       "...                               ...                             ...   \n",
       "840                                 7                              21   \n",
       "841                                53                             108   \n",
       "8805                                0                               5   \n",
       "8896                                7                              11   \n",
       "23621                               0                               0   \n",
       "\n",
       "       Social Dark Patterns Absence  Psychological Dark Patterns Absence  \n",
       "1                                 0                                    0  \n",
       "2                                 2                                    0  \n",
       "3                                 1                                    0  \n",
       "4                                 0                                    0  \n",
       "5                                 0                                    0  \n",
       "...                             ...                                  ...  \n",
       "840                              14                                    8  \n",
       "841                              94                                   57  \n",
       "8805                              3                                    3  \n",
       "8896                              7                                    7  \n",
       "23621                             0                                    0  \n",
       "\n",
       "[843 rows x 8 columns]"
      ]
     },
     "execution_count": 10,
     "metadata": {},
     "output_type": "execute_result"
    }
   ],
   "source": [
    "dark_patterns_df.drop(['Temporal Dark Patterns', 'Monetary Dark Patterns', \n",
    "                       'Social Dark Patterns', 'Psychological Dark Patterns'], axis=1)"
   ]
  },
  {
   "cell_type": "code",
   "execution_count": 11,
   "id": "a83b1a96",
   "metadata": {},
   "outputs": [
    {
     "name": "stdout",
     "output_type": "stream",
     "text": [
      "Anzahl der entfernten Zeilen: 25939\n"
     ]
    }
   ],
   "source": [
    "removed_rows = len(df) - len(dark_patterns_df)\n",
    "print(f\"Anzahl der entfernten Zeilen: {removed_rows}\")"
   ]
  },
  {
   "cell_type": "code",
   "execution_count": 12,
   "id": "86342f1c",
   "metadata": {},
   "outputs": [],
   "source": [
    "dark_patterns_df.to_csv('./d_dark_patterns.csv')"
   ]
  },
  {
   "cell_type": "code",
   "execution_count": 46,
   "id": "4db256b5",
   "metadata": {},
   "outputs": [
    {
     "data": {
      "image/png": "[encoded data removed]",
      "text/plain": [
       "<Figure size 432x288 with 1 Axes>"
      ]
     },
     "metadata": {
      "needs_background": "light"
     },
     "output_type": "display_data"
    }
   ],
   "source": [
    "dark_patterns_df[['Temporal Dark Patterns Present', 'Monetary Dark Patterns Present', 'Social Dark Patterns Present', 'Psychological Dark Patterns Present']].sum().plot(kind='bar', rot=45, color='orange', ylim=(0,30000))\n",
    "ax = plt.gca()\n",
    "for p in ax.patches:\n",
    "    ax.text(p.get_x() + p.get_width() / 2., p.get_height(), f\"{p.get_height()}\", ha='center', va='bottom')\n",
    "\n",
    "plt.savefig('BarDarkGamesPresent.pdf', format='pdf',bbox_inches='tight')"
   ]
  },
  {
   "cell_type": "code",
   "execution_count": 16,
   "id": "c3d3b753",
   "metadata": {},
   "outputs": [
    {
     "data": {
      "image/png": "[encoded data removed]",
      "text/plain": [
       "<Figure size 432x288 with 1 Axes>"
      ]
     },
     "metadata": {
      "needs_background": "light"
     },
     "output_type": "display_data"
    }
   ],
   "source": [
    "category_sums = dark_patterns_df[['Temporal Dark Patterns Present', 'Monetary Dark Patterns Present', 'Social Dark Patterns Present', 'Psychological Dark Patterns Present']].sum()\n",
    "\n",
    "fig, ax = plt.subplots()\n",
    "\n",
    "patterns = ['Temporal', 'Monetary', 'Social', 'Psychological']\n",
    "colors = ['red', 'blue', 'green', 'purple']\n",
    "bottom = np.zeros(len(patterns))\n",
    "\n",
    "pattern_values = []\n",
    "for pattern in patterns:\n",
    "    pattern_values.append(dark_patterns_df[f'{pattern} Dark Patterns Present'].sum())\n",
    "\n",
    "for i, pattern in enumerate(patterns):\n",
    "    ax.bar(patterns, pattern_values[i], bottom=bottom, color=colors[i], label=f'{pattern} Dark Patterns')\n",
    "    bottom += pattern_values[i]\n",
    "\n",
    "ax.set_ylabel('Anzahl der Dark Patterns')\n",
    "ax.set_title('Anzahl der Dark Patterns in Dark Games')\n",
    "ax.legend()\n",
    "\n",
    "plt.show()"
   ]
  },
  {
   "cell_type": "code",
   "execution_count": 17,
   "id": "0668a197",
   "metadata": {},
   "outputs": [
    {
     "data": {
      "text/plain": [
       "<AxesSubplot:ylabel='Density'>"
      ]
     },
     "execution_count": 17,
     "metadata": {},
     "output_type": "execute_result"
    },
    {
     "data": {
      "image/png": "[encoded data removed]",
      "text/plain": [
       "<Figure size 432x288 with 1 Axes>"
      ]
     },
     "metadata": {
      "needs_background": "light"
     },
     "output_type": "display_data"
    }
   ],
   "source": [
    "sum_df = dark_patterns_df[['Temporal Dark Patterns Present', 'Monetary Dark Patterns Present', \n",
    "                           'Social Dark Patterns Present', 'Psychological Dark Patterns Present']].sum()\n",
    "\n",
    "sns.kdeplot(sum_df, multiple='stack', color='g')"
   ]
  },
  {
   "cell_type": "code",
   "execution_count": 45,
   "id": "46adae99",
   "metadata": {},
   "outputs": [
    {
     "data": {
      "image/png": "[encoded data removed]",
      "text/plain": [
       "<Figure size 432x288 with 1 Axes>"
      ]
     },
     "metadata": {
      "needs_background": "light"
     },
     "output_type": "display_data"
    }
   ],
   "source": [
    "dark_patterns_df[['Temporal Dark Patterns Absence', 'Monetary Dark Patterns Absence', 'Social Dark Patterns Absence', 'Psychological Dark Patterns Absence']].sum().plot(kind='bar', color='orange',rot=45, ylim=(0,40000))\n",
    "ax = plt.gca()\n",
    "for p in ax.patches:\n",
    "    ax.text(p.get_x() + p.get_width() / 2., p.get_height(), f\"{p.get_height()}\", ha='center', va='bottom')\n",
    "\n",
    "plt.savefig('BarDarkGamesAbsence.pdf', format='pdf',bbox_inches='tight')"
   ]
  },
  {
   "cell_type": "code",
   "execution_count": 19,
   "id": "d30ffa1c",
   "metadata": {},
   "outputs": [
    {
     "data": {
      "text/plain": [
       "<AxesSubplot:ylabel='Density'>"
      ]
     },
     "execution_count": 19,
     "metadata": {},
     "output_type": "execute_result"
    },
    {
     "data": {
      "image/png": "[encoded data removed]",
      "text/plain": [
       "<Figure size 432x288 with 1 Axes>"
      ]
     },
     "metadata": {
      "needs_background": "light"
     },
     "output_type": "display_data"
    }
   ],
   "source": [
    "sum_df = dark_patterns_df[['Temporal Dark Patterns Absence', 'Monetary Dark Patterns Absence', 'Social Dark Patterns Absence', 'Psychological Dark Patterns Absence']].sum()\n",
    "\n",
    "sns.kdeplot(sum_df, multiple='stack')"
   ]
  },
  {
   "cell_type": "code",
   "execution_count": 20,
   "id": "04843df1",
   "metadata": {},
   "outputs": [
    {
     "data": {
      "text/plain": [
       "([0, 1, 2, 3],\n",
       " [Text(0, 0, ''), Text(0, 0, ''), Text(0, 0, ''), Text(0, 0, '')])"
      ]
     },
     "execution_count": 20,
     "metadata": {},
     "output_type": "execute_result"
    },
    {
     "data": {
      "image/png": "[encoded data removed]",
      "text/plain": [
       "<Figure size 720x576 with 1 Axes>"
      ]
     },
     "metadata": {
      "needs_background": "light"
     },
     "output_type": "display_data"
    }
   ],
   "source": [
    "summed = dark_patterns_df[['Temporal Dark Patterns Present', 'Monetary Dark Patterns Present', 'Social Dark Patterns Present', 'Psychological Dark Patterns Present']].sum()\n",
    "\n",
    "data = pd.DataFrame(summed).reset_index()\n",
    "\n",
    "fig, ax = plt.subplots(figsize=(10,8))\n",
    "sns.histplot(x='index', y=0, data=data, ax=ax)\n",
    "plt.xlabel('Type')\n",
    "plt.xticks(rotation=45)"
   ]
  },
  {
   "cell_type": "code",
   "execution_count": 21,
   "id": "0b2369a8",
   "metadata": {},
   "outputs": [
    {
     "data": {
      "text/plain": [
       "<AxesSubplot:xlabel='None-index'>"
      ]
     },
     "execution_count": 21,
     "metadata": {},
     "output_type": "execute_result"
    },
    {
     "data": {
      "image/png": "[encoded data removed]",
      "text/plain": [
       "<Figure size 432x288 with 2 Axes>"
      ]
     },
     "metadata": {
      "needs_background": "light"
     },
     "output_type": "display_data"
    }
   ],
   "source": [
    "sns.heatmap(data.pivot(0, 'index').reset_index(), yticklabels=data['index'], xticklabels=['Sum'])"
   ]
  },
  {
   "cell_type": "code",
   "execution_count": 22,
   "id": "e12e3ce7",
   "metadata": {},
   "outputs": [
    {
     "data": {
      "text/html": [
       "<div>\n",
       "<style scoped>\n",
       "    .dataframe tbody tr th:only-of-type {\n",
       "        vertical-align: middle;\n",
       "    }\n",
       "\n",
       "    .dataframe tbody tr th {\n",
       "        vertical-align: top;\n",
       "    }\n",
       "\n",
       "    .dataframe thead th {\n",
       "        text-align: right;\n",
       "    }\n",
       "</style>\n",
       "<table border=\"1\" class=\"dataframe\">\n",
       "  <thead>\n",
       "    <tr style=\"text-align: right;\">\n",
       "      <th></th>\n",
       "      <th>title</th>\n",
       "      <th>Price</th>\n",
       "      <th>Ads</th>\n",
       "      <th>In App Purchases</th>\n",
       "      <th>Temporal Dark Patterns</th>\n",
       "      <th>Monetary Dark Patterns</th>\n",
       "      <th>Social Dark Patterns</th>\n",
       "      <th>Psychological Dark Patterns</th>\n",
       "    </tr>\n",
       "  </thead>\n",
       "  <tbody>\n",
       "    <tr>\n",
       "      <th>1</th>\n",
       "      <td>Knife Hit</td>\n",
       "      <td>Free</td>\n",
       "      <td>Yes</td>\n",
       "      <td>Yes</td>\n",
       "      <td>This game has 7 reported Temporal Dark Pattern...</td>\n",
       "      <td>This game has 11 reported Monetary Dark Patter...</td>\n",
       "      <td>This game has 7 reported Social Dark Patterns....</td>\n",
       "      <td>This game has 7 reported Psychological Dark Pa...</td>\n",
       "    </tr>\n",
       "    <tr>\n",
       "      <th>2</th>\n",
       "      <td>Walking Dead: Road to Survival</td>\n",
       "      <td>Free</td>\n",
       "      <td>Yes</td>\n",
       "      <td>Yes</td>\n",
       "      <td>This game has 27 reported Temporal Dark Patter...</td>\n",
       "      <td>This game has 44 reported Monetary Dark Patter...</td>\n",
       "      <td>This game has 26 reported Social Dark Patterns...</td>\n",
       "      <td>This game has 28 reported Psychological Dark P...</td>\n",
       "    </tr>\n",
       "    <tr>\n",
       "      <th>3</th>\n",
       "      <td>Unison League</td>\n",
       "      <td>Free</td>\n",
       "      <td>Yes</td>\n",
       "      <td>Yes</td>\n",
       "      <td>This game has 12 reported Temporal Dark Patter...</td>\n",
       "      <td>This game has 19 reported Monetary Dark Patter...</td>\n",
       "      <td>This game has 11 reported Social Dark Patterns...</td>\n",
       "      <td>This game has 10 reported Psychological Dark P...</td>\n",
       "    </tr>\n",
       "    <tr>\n",
       "      <th>4</th>\n",
       "      <td>War and Peace: Build an Army in the Epic Civil...</td>\n",
       "      <td>Free</td>\n",
       "      <td>Yes</td>\n",
       "      <td>Yes</td>\n",
       "      <td>This game has 7 reported Temporal Dark Pattern...</td>\n",
       "      <td>This game has 8 reported Monetary Dark Pattern...</td>\n",
       "      <td>This game has 5 reported Social Dark Patterns....</td>\n",
       "      <td>This game has 4 reported Psychological Dark Pa...</td>\n",
       "    </tr>\n",
       "    <tr>\n",
       "      <th>5</th>\n",
       "      <td>Cat Mario Run</td>\n",
       "      <td>$3.99</td>\n",
       "      <td>Yes</td>\n",
       "      <td>Unknown</td>\n",
       "      <td>This game has 22 reported Temporal Dark Patter...</td>\n",
       "      <td>This game has 33 reported Monetary Dark Patter...</td>\n",
       "      <td>This game has 21 reported Social Dark Patterns...</td>\n",
       "      <td>This game has 21 reported Psychological Dark P...</td>\n",
       "    </tr>\n",
       "    <tr>\n",
       "      <th>...</th>\n",
       "      <td>...</td>\n",
       "      <td>...</td>\n",
       "      <td>...</td>\n",
       "      <td>...</td>\n",
       "      <td>...</td>\n",
       "      <td>...</td>\n",
       "      <td>...</td>\n",
       "      <td>...</td>\n",
       "    </tr>\n",
       "    <tr>\n",
       "      <th>831</th>\n",
       "      <td>Limbus Company</td>\n",
       "      <td>Free</td>\n",
       "      <td>Unknown</td>\n",
       "      <td>Yes</td>\n",
       "      <td>This game has 22 reported Temporal Dark Patter...</td>\n",
       "      <td>This game has 65 reported Monetary Dark Patter...</td>\n",
       "      <td>This game has 8 reported Social Dark Patterns....</td>\n",
       "      <td>This game has 24 reported Psychological Dark P...</td>\n",
       "    </tr>\n",
       "    <tr>\n",
       "      <th>836</th>\n",
       "      <td>Mahjong Soul</td>\n",
       "      <td>Free</td>\n",
       "      <td>Unknown</td>\n",
       "      <td>Yes</td>\n",
       "      <td>This game has 6 reported Temporal Dark Pattern...</td>\n",
       "      <td>This game has 12 reported Monetary Dark Patter...</td>\n",
       "      <td>This game has 5 reported Social Dark Patterns....</td>\n",
       "      <td>This game has 8 reported Psychological Dark Pa...</td>\n",
       "    </tr>\n",
       "    <tr>\n",
       "      <th>837</th>\n",
       "      <td>Top War: Battle Game</td>\n",
       "      <td>Free</td>\n",
       "      <td>Yes</td>\n",
       "      <td>Yes</td>\n",
       "      <td>This game has 7 reported Temporal Dark Pattern...</td>\n",
       "      <td>This game has 9 reported Monetary Dark Pattern...</td>\n",
       "      <td>This game has 7 reported Social Dark Patterns....</td>\n",
       "      <td>This game has 6 reported Psychological Dark Pa...</td>\n",
       "    </tr>\n",
       "    <tr>\n",
       "      <th>841</th>\n",
       "      <td>BitLife - Life Simulator</td>\n",
       "      <td>Free</td>\n",
       "      <td>Yes</td>\n",
       "      <td>Yes</td>\n",
       "      <td>This game has 45 reported Temporal Dark Patter...</td>\n",
       "      <td>This game has 40 reported Monetary Dark Patter...</td>\n",
       "      <td>This game has 3 reported Social Dark Patterns....</td>\n",
       "      <td>This game has 35 reported Psychological Dark P...</td>\n",
       "    </tr>\n",
       "    <tr>\n",
       "      <th>8805</th>\n",
       "      <td>Infinite Lagrange</td>\n",
       "      <td>Free</td>\n",
       "      <td>No</td>\n",
       "      <td>Yes</td>\n",
       "      <td>This game has 4 reported Temporal Dark Pattern...</td>\n",
       "      <td>This game has 4 reported Monetary Dark Pattern...</td>\n",
       "      <td>This game has 4 reported Social Dark Patterns....</td>\n",
       "      <td>This game has 4 reported Psychological Dark Pa...</td>\n",
       "    </tr>\n",
       "  </tbody>\n",
       "</table>\n",
       "<p>551 rows × 8 columns</p>\n",
       "</div>"
      ],
      "text/plain": [
       "                                                  title  Price      Ads  \\\n",
       "1                                             Knife Hit   Free      Yes   \n",
       "2                        Walking Dead: Road to Survival   Free      Yes   \n",
       "3                                         Unison League   Free      Yes   \n",
       "4     War and Peace: Build an Army in the Epic Civil...   Free      Yes   \n",
       "5                                         Cat Mario Run  $3.99      Yes   \n",
       "...                                                 ...    ...      ...   \n",
       "831                                      Limbus Company   Free  Unknown   \n",
       "836                                        Mahjong Soul   Free  Unknown   \n",
       "837                                Top War: Battle Game   Free      Yes   \n",
       "841                            BitLife - Life Simulator   Free      Yes   \n",
       "8805                                  Infinite Lagrange   Free       No   \n",
       "\n",
       "     In App Purchases                             Temporal Dark Patterns  \\\n",
       "1                 Yes  This game has 7 reported Temporal Dark Pattern...   \n",
       "2                 Yes  This game has 27 reported Temporal Dark Patter...   \n",
       "3                 Yes  This game has 12 reported Temporal Dark Patter...   \n",
       "4                 Yes  This game has 7 reported Temporal Dark Pattern...   \n",
       "5             Unknown  This game has 22 reported Temporal Dark Patter...   \n",
       "...               ...                                                ...   \n",
       "831               Yes  This game has 22 reported Temporal Dark Patter...   \n",
       "836               Yes  This game has 6 reported Temporal Dark Pattern...   \n",
       "837               Yes  This game has 7 reported Temporal Dark Pattern...   \n",
       "841               Yes  This game has 45 reported Temporal Dark Patter...   \n",
       "8805              Yes  This game has 4 reported Temporal Dark Pattern...   \n",
       "\n",
       "                                 Monetary Dark Patterns  \\\n",
       "1     This game has 11 reported Monetary Dark Patter...   \n",
       "2     This game has 44 reported Monetary Dark Patter...   \n",
       "3     This game has 19 reported Monetary Dark Patter...   \n",
       "4     This game has 8 reported Monetary Dark Pattern...   \n",
       "5     This game has 33 reported Monetary Dark Patter...   \n",
       "...                                                 ...   \n",
       "831   This game has 65 reported Monetary Dark Patter...   \n",
       "836   This game has 12 reported Monetary Dark Patter...   \n",
       "837   This game has 9 reported Monetary Dark Pattern...   \n",
       "841   This game has 40 reported Monetary Dark Patter...   \n",
       "8805  This game has 4 reported Monetary Dark Pattern...   \n",
       "\n",
       "                                   Social Dark Patterns  \\\n",
       "1     This game has 7 reported Social Dark Patterns....   \n",
       "2     This game has 26 reported Social Dark Patterns...   \n",
       "3     This game has 11 reported Social Dark Patterns...   \n",
       "4     This game has 5 reported Social Dark Patterns....   \n",
       "5     This game has 21 reported Social Dark Patterns...   \n",
       "...                                                 ...   \n",
       "831   This game has 8 reported Social Dark Patterns....   \n",
       "836   This game has 5 reported Social Dark Patterns....   \n",
       "837   This game has 7 reported Social Dark Patterns....   \n",
       "841   This game has 3 reported Social Dark Patterns....   \n",
       "8805  This game has 4 reported Social Dark Patterns....   \n",
       "\n",
       "                            Psychological Dark Patterns  \n",
       "1     This game has 7 reported Psychological Dark Pa...  \n",
       "2     This game has 28 reported Psychological Dark P...  \n",
       "3     This game has 10 reported Psychological Dark P...  \n",
       "4     This game has 4 reported Psychological Dark Pa...  \n",
       "5     This game has 21 reported Psychological Dark P...  \n",
       "...                                                 ...  \n",
       "831   This game has 24 reported Psychological Dark P...  \n",
       "836   This game has 8 reported Psychological Dark Pa...  \n",
       "837   This game has 6 reported Psychological Dark Pa...  \n",
       "841   This game has 35 reported Psychological Dark P...  \n",
       "8805  This game has 4 reported Psychological Dark Pa...  \n",
       "\n",
       "[551 rows x 8 columns]"
      ]
     },
     "execution_count": 22,
     "metadata": {},
     "output_type": "execute_result"
    }
   ],
   "source": [
    "df = df.dropna()\n",
    "\n",
    "df[(df['Temporal Dark Patterns'].apply(lambda x: int(re.search(r'\\d+', x).group())) > 1) \n",
    "   & (df['Monetary Dark Patterns'].apply(lambda x: int(re.search(r'\\d+', x).group())) > 1)\n",
    "      & (df['Social Dark Patterns'].apply(lambda x: int(re.search(r'\\d+', x).group())) > 1)\n",
    "          & (df['Psychological Dark Patterns'].apply(lambda x: int(re.search(r'\\d+', x).group())) > 1)]"
   ]
  },
  {
   "cell_type": "code",
   "execution_count": 23,
   "id": "b6d09efd",
   "metadata": {},
   "outputs": [],
   "source": [
    "df['Price'] = df['Price'].apply(lambda x: 'Not Free' if (x != 'Free') else 'Free')"
   ]
  },
  {
   "cell_type": "code",
   "execution_count": 42,
   "id": "a99a7113",
   "metadata": {},
   "outputs": [
    {
     "data": {
      "image/png": "[encoded data removed]",
      "text/plain": [
       "<Figure size 432x288 with 1 Axes>"
      ]
     },
     "metadata": {
      "needs_background": "light"
     },
     "output_type": "display_data"
    }
   ],
   "source": [
    "pd.value_counts(df[\"Price\"]).plot.bar(rot=45, color='orange', ylim=(0,900))\n",
    "\n",
    "plt.savefig('BarDarkGamesPrice.pdf', format='pdf',bbox_inches='tight')"
   ]
  },
  {
   "cell_type": "code",
   "execution_count": 43,
   "id": "b67fa249",
   "metadata": {},
   "outputs": [
    {
     "data": {
      "image/png": "[encoded data removed]",
      "text/plain": [
       "<Figure size 432x288 with 1 Axes>"
      ]
     },
     "metadata": {
      "needs_background": "light"
     },
     "output_type": "display_data"
    }
   ],
   "source": [
    "df['In App Purchases'] = df['In App Purchases'].fillna('Unknown')\n",
    "pd.value_counts(df[\"In App Purchases\"]).plot.bar(rot=45, color='orange', ylim=(0,900))\n",
    "\n",
    "plt.savefig('BarDarkGamesinAppPurchases.pdf', format='pdf',bbox_inches='tight')"
   ]
  },
  {
   "cell_type": "code",
   "execution_count": 44,
   "id": "e7984b38",
   "metadata": {},
   "outputs": [
    {
     "data": {
      "image/png": "[encoded data removed]",
      "text/plain": [
       "<Figure size 432x288 with 1 Axes>"
      ]
     },
     "metadata": {
      "needs_background": "light"
     },
     "output_type": "display_data"
    }
   ],
   "source": [
    "df['Ads'] = df['Ads'].fillna('Unknown')\n",
    "pd.value_counts(df[\"Ads\"]).plot.bar(rot=45, color='orange', ylim=(0,500))\n",
    "\n",
    "plt.savefig('BarDarkGamesAds.pdf', format='pdf',bbox_inches='tight')"
   ]
  },
  {
   "cell_type": "code",
   "execution_count": 32,
   "id": "2e4c1ede",
   "metadata": {},
   "outputs": [
    {
     "data": {
      "text/plain": [
       "(843, 8)"
      ]
     },
     "execution_count": 32,
     "metadata": {},
     "output_type": "execute_result"
    }
   ],
   "source": [
    "df.shape"
   ]
  },
  {
   "cell_type": "code",
   "execution_count": null,
   "id": "078c8f0b",
   "metadata": {},
   "outputs": [],
   "source": []
  },
  {
   "cell_type": "code",
   "execution_count": null,
   "id": "45977058",
   "metadata": {},
   "outputs": [],
   "source": []
  }
 ],
 "metadata": {
  "kernelspec": {
   "display_name": "Python 3 (ipykernel)",
   "language": "python",
   "name": "python3"
  },
  "language_info": {
   "codemirror_mode": {
    "name": "ipython",
    "version": 3
   },
   "file_extension": ".py",
   "mimetype": "text/x-python",
   "name": "python",
   "nbconvert_exporter": "python",
   "pygments_lexer": "ipython3",
   "version": "3.9.7"
  }
 },
 "nbformat": 4,
 "nbformat_minor": 5
}
